{
  "cells": [
    {
      "cell_type": "code",
      "execution_count": null,
      "id": "538d52a5",
      "metadata": {
        "id": "538d52a5"
      },
      "outputs": [],
      "source": [
        "import pandas as pd\n",
        "from sklearn.model_selection import train_test_split\n",
        "from sklearn.model_selection import cross_val_score\n",
        "from sklearn.model_selection import GridSearchCV\n",
        "from sklearn.metrics import mean_squared_error\n",
        "from sklearn.metrics import r2_score\n",
        "import numpy as np\n",
        "import time\n",
        "import matplotlib.pyplot as plt"
      ]
    },
    {
      "cell_type": "code",
      "execution_count": null,
      "id": "c5d7c4cd",
      "metadata": {
        "id": "c5d7c4cd"
      },
      "outputs": [],
      "source": [
        "white = pd.read_csv(\"https://archive.ics.uci.edu/ml/machine-learning-databases/wine-quality/winequality-white.csv\", delimiter = \";\")\n",
        "red = pd.read_csv(\"https://archive.ics.uci.edu/ml/machine-learning-databases/wine-quality/winequality-red.csv\", delimiter = \";\")\n",
        "white['type'] = ['white'] * white.shape[0]\n",
        "red['type'] = ['red'] * red.shape[0]"
      ]
    },
    {
      "cell_type": "code",
      "execution_count": null,
      "id": "17b94c36",
      "metadata": {
        "scrolled": true,
        "id": "17b94c36"
      },
      "outputs": [],
      "source": [
        "wine  = pd.concat([white,red])\n",
        "wine['type'] = wine['type'].astype('category')\n",
        "wine.reset_index(inplace=True, drop=True)"
      ]
    },
    {
      "cell_type": "code",
      "execution_count": null,
      "id": "1fcb84a2",
      "metadata": {
        "colab": {
          "base_uri": "https://localhost:8080/",
          "height": 424
        },
        "id": "1fcb84a2",
        "outputId": "5ae2b950-bf92-4011-d8c8-0f17e4c5ff08"
      },
      "outputs": [
        {
          "output_type": "execute_result",
          "data": {
            "text/plain": [
              "      fixed acidity  volatile acidity  citric acid  residual sugar  chlorides  \\\n",
              "0               7.0             0.270         0.36            20.7      0.045   \n",
              "1               6.3             0.300         0.34             1.6      0.049   \n",
              "2               8.1             0.280         0.40             6.9      0.050   \n",
              "3               7.2             0.230         0.32             8.5      0.058   \n",
              "4               7.2             0.230         0.32             8.5      0.058   \n",
              "...             ...               ...          ...             ...        ...   \n",
              "6492            6.2             0.600         0.08             2.0      0.090   \n",
              "6493            5.9             0.550         0.10             2.2      0.062   \n",
              "6494            6.3             0.510         0.13             2.3      0.076   \n",
              "6495            5.9             0.645         0.12             2.0      0.075   \n",
              "6496            6.0             0.310         0.47             3.6      0.067   \n",
              "\n",
              "      free sulfur dioxide  total sulfur dioxide  density    pH  sulphates  \\\n",
              "0                    45.0                 170.0  1.00100  3.00       0.45   \n",
              "1                    14.0                 132.0  0.99400  3.30       0.49   \n",
              "2                    30.0                  97.0  0.99510  3.26       0.44   \n",
              "3                    47.0                 186.0  0.99560  3.19       0.40   \n",
              "4                    47.0                 186.0  0.99560  3.19       0.40   \n",
              "...                   ...                   ...      ...   ...        ...   \n",
              "6492                 32.0                  44.0  0.99490  3.45       0.58   \n",
              "6493                 39.0                  51.0  0.99512  3.52       0.76   \n",
              "6494                 29.0                  40.0  0.99574  3.42       0.75   \n",
              "6495                 32.0                  44.0  0.99547  3.57       0.71   \n",
              "6496                 18.0                  42.0  0.99549  3.39       0.66   \n",
              "\n",
              "      alcohol  quality   type  \n",
              "0         8.8        6  white  \n",
              "1         9.5        6  white  \n",
              "2        10.1        6  white  \n",
              "3         9.9        6  white  \n",
              "4         9.9        6  white  \n",
              "...       ...      ...    ...  \n",
              "6492     10.5        5    red  \n",
              "6493     11.2        6    red  \n",
              "6494     11.0        6    red  \n",
              "6495     10.2        5    red  \n",
              "6496     11.0        6    red  \n",
              "\n",
              "[6497 rows x 13 columns]"
            ],
            "text/html": [
              "\n",
              "  <div id=\"df-deebee32-0bc8-45e2-8c62-cf99bdf8203b\">\n",
              "    <div class=\"colab-df-container\">\n",
              "      <div>\n",
              "<style scoped>\n",
              "    .dataframe tbody tr th:only-of-type {\n",
              "        vertical-align: middle;\n",
              "    }\n",
              "\n",
              "    .dataframe tbody tr th {\n",
              "        vertical-align: top;\n",
              "    }\n",
              "\n",
              "    .dataframe thead th {\n",
              "        text-align: right;\n",
              "    }\n",
              "</style>\n",
              "<table border=\"1\" class=\"dataframe\">\n",
              "  <thead>\n",
              "    <tr style=\"text-align: right;\">\n",
              "      <th></th>\n",
              "      <th>fixed acidity</th>\n",
              "      <th>volatile acidity</th>\n",
              "      <th>citric acid</th>\n",
              "      <th>residual sugar</th>\n",
              "      <th>chlorides</th>\n",
              "      <th>free sulfur dioxide</th>\n",
              "      <th>total sulfur dioxide</th>\n",
              "      <th>density</th>\n",
              "      <th>pH</th>\n",
              "      <th>sulphates</th>\n",
              "      <th>alcohol</th>\n",
              "      <th>quality</th>\n",
              "      <th>type</th>\n",
              "    </tr>\n",
              "  </thead>\n",
              "  <tbody>\n",
              "    <tr>\n",
              "      <th>0</th>\n",
              "      <td>7.0</td>\n",
              "      <td>0.270</td>\n",
              "      <td>0.36</td>\n",
              "      <td>20.7</td>\n",
              "      <td>0.045</td>\n",
              "      <td>45.0</td>\n",
              "      <td>170.0</td>\n",
              "      <td>1.00100</td>\n",
              "      <td>3.00</td>\n",
              "      <td>0.45</td>\n",
              "      <td>8.8</td>\n",
              "      <td>6</td>\n",
              "      <td>white</td>\n",
              "    </tr>\n",
              "    <tr>\n",
              "      <th>1</th>\n",
              "      <td>6.3</td>\n",
              "      <td>0.300</td>\n",
              "      <td>0.34</td>\n",
              "      <td>1.6</td>\n",
              "      <td>0.049</td>\n",
              "      <td>14.0</td>\n",
              "      <td>132.0</td>\n",
              "      <td>0.99400</td>\n",
              "      <td>3.30</td>\n",
              "      <td>0.49</td>\n",
              "      <td>9.5</td>\n",
              "      <td>6</td>\n",
              "      <td>white</td>\n",
              "    </tr>\n",
              "    <tr>\n",
              "      <th>2</th>\n",
              "      <td>8.1</td>\n",
              "      <td>0.280</td>\n",
              "      <td>0.40</td>\n",
              "      <td>6.9</td>\n",
              "      <td>0.050</td>\n",
              "      <td>30.0</td>\n",
              "      <td>97.0</td>\n",
              "      <td>0.99510</td>\n",
              "      <td>3.26</td>\n",
              "      <td>0.44</td>\n",
              "      <td>10.1</td>\n",
              "      <td>6</td>\n",
              "      <td>white</td>\n",
              "    </tr>\n",
              "    <tr>\n",
              "      <th>3</th>\n",
              "      <td>7.2</td>\n",
              "      <td>0.230</td>\n",
              "      <td>0.32</td>\n",
              "      <td>8.5</td>\n",
              "      <td>0.058</td>\n",
              "      <td>47.0</td>\n",
              "      <td>186.0</td>\n",
              "      <td>0.99560</td>\n",
              "      <td>3.19</td>\n",
              "      <td>0.40</td>\n",
              "      <td>9.9</td>\n",
              "      <td>6</td>\n",
              "      <td>white</td>\n",
              "    </tr>\n",
              "    <tr>\n",
              "      <th>4</th>\n",
              "      <td>7.2</td>\n",
              "      <td>0.230</td>\n",
              "      <td>0.32</td>\n",
              "      <td>8.5</td>\n",
              "      <td>0.058</td>\n",
              "      <td>47.0</td>\n",
              "      <td>186.0</td>\n",
              "      <td>0.99560</td>\n",
              "      <td>3.19</td>\n",
              "      <td>0.40</td>\n",
              "      <td>9.9</td>\n",
              "      <td>6</td>\n",
              "      <td>white</td>\n",
              "    </tr>\n",
              "    <tr>\n",
              "      <th>...</th>\n",
              "      <td>...</td>\n",
              "      <td>...</td>\n",
              "      <td>...</td>\n",
              "      <td>...</td>\n",
              "      <td>...</td>\n",
              "      <td>...</td>\n",
              "      <td>...</td>\n",
              "      <td>...</td>\n",
              "      <td>...</td>\n",
              "      <td>...</td>\n",
              "      <td>...</td>\n",
              "      <td>...</td>\n",
              "      <td>...</td>\n",
              "    </tr>\n",
              "    <tr>\n",
              "      <th>6492</th>\n",
              "      <td>6.2</td>\n",
              "      <td>0.600</td>\n",
              "      <td>0.08</td>\n",
              "      <td>2.0</td>\n",
              "      <td>0.090</td>\n",
              "      <td>32.0</td>\n",
              "      <td>44.0</td>\n",
              "      <td>0.99490</td>\n",
              "      <td>3.45</td>\n",
              "      <td>0.58</td>\n",
              "      <td>10.5</td>\n",
              "      <td>5</td>\n",
              "      <td>red</td>\n",
              "    </tr>\n",
              "    <tr>\n",
              "      <th>6493</th>\n",
              "      <td>5.9</td>\n",
              "      <td>0.550</td>\n",
              "      <td>0.10</td>\n",
              "      <td>2.2</td>\n",
              "      <td>0.062</td>\n",
              "      <td>39.0</td>\n",
              "      <td>51.0</td>\n",
              "      <td>0.99512</td>\n",
              "      <td>3.52</td>\n",
              "      <td>0.76</td>\n",
              "      <td>11.2</td>\n",
              "      <td>6</td>\n",
              "      <td>red</td>\n",
              "    </tr>\n",
              "    <tr>\n",
              "      <th>6494</th>\n",
              "      <td>6.3</td>\n",
              "      <td>0.510</td>\n",
              "      <td>0.13</td>\n",
              "      <td>2.3</td>\n",
              "      <td>0.076</td>\n",
              "      <td>29.0</td>\n",
              "      <td>40.0</td>\n",
              "      <td>0.99574</td>\n",
              "      <td>3.42</td>\n",
              "      <td>0.75</td>\n",
              "      <td>11.0</td>\n",
              "      <td>6</td>\n",
              "      <td>red</td>\n",
              "    </tr>\n",
              "    <tr>\n",
              "      <th>6495</th>\n",
              "      <td>5.9</td>\n",
              "      <td>0.645</td>\n",
              "      <td>0.12</td>\n",
              "      <td>2.0</td>\n",
              "      <td>0.075</td>\n",
              "      <td>32.0</td>\n",
              "      <td>44.0</td>\n",
              "      <td>0.99547</td>\n",
              "      <td>3.57</td>\n",
              "      <td>0.71</td>\n",
              "      <td>10.2</td>\n",
              "      <td>5</td>\n",
              "      <td>red</td>\n",
              "    </tr>\n",
              "    <tr>\n",
              "      <th>6496</th>\n",
              "      <td>6.0</td>\n",
              "      <td>0.310</td>\n",
              "      <td>0.47</td>\n",
              "      <td>3.6</td>\n",
              "      <td>0.067</td>\n",
              "      <td>18.0</td>\n",
              "      <td>42.0</td>\n",
              "      <td>0.99549</td>\n",
              "      <td>3.39</td>\n",
              "      <td>0.66</td>\n",
              "      <td>11.0</td>\n",
              "      <td>6</td>\n",
              "      <td>red</td>\n",
              "    </tr>\n",
              "  </tbody>\n",
              "</table>\n",
              "<p>6497 rows × 13 columns</p>\n",
              "</div>\n",
              "      <button class=\"colab-df-convert\" onclick=\"convertToInteractive('df-deebee32-0bc8-45e2-8c62-cf99bdf8203b')\"\n",
              "              title=\"Convert this dataframe to an interactive table.\"\n",
              "              style=\"display:none;\">\n",
              "        \n",
              "  <svg xmlns=\"http://www.w3.org/2000/svg\" height=\"24px\"viewBox=\"0 0 24 24\"\n",
              "       width=\"24px\">\n",
              "    <path d=\"M0 0h24v24H0V0z\" fill=\"none\"/>\n",
              "    <path d=\"M18.56 5.44l.94 2.06.94-2.06 2.06-.94-2.06-.94-.94-2.06-.94 2.06-2.06.94zm-11 1L8.5 8.5l.94-2.06 2.06-.94-2.06-.94L8.5 2.5l-.94 2.06-2.06.94zm10 10l.94 2.06.94-2.06 2.06-.94-2.06-.94-.94-2.06-.94 2.06-2.06.94z\"/><path d=\"M17.41 7.96l-1.37-1.37c-.4-.4-.92-.59-1.43-.59-.52 0-1.04.2-1.43.59L10.3 9.45l-7.72 7.72c-.78.78-.78 2.05 0 2.83L4 21.41c.39.39.9.59 1.41.59.51 0 1.02-.2 1.41-.59l7.78-7.78 2.81-2.81c.8-.78.8-2.07 0-2.86zM5.41 20L4 18.59l7.72-7.72 1.47 1.35L5.41 20z\"/>\n",
              "  </svg>\n",
              "      </button>\n",
              "      \n",
              "  <style>\n",
              "    .colab-df-container {\n",
              "      display:flex;\n",
              "      flex-wrap:wrap;\n",
              "      gap: 12px;\n",
              "    }\n",
              "\n",
              "    .colab-df-convert {\n",
              "      background-color: #E8F0FE;\n",
              "      border: none;\n",
              "      border-radius: 50%;\n",
              "      cursor: pointer;\n",
              "      display: none;\n",
              "      fill: #1967D2;\n",
              "      height: 32px;\n",
              "      padding: 0 0 0 0;\n",
              "      width: 32px;\n",
              "    }\n",
              "\n",
              "    .colab-df-convert:hover {\n",
              "      background-color: #E2EBFA;\n",
              "      box-shadow: 0px 1px 2px rgba(60, 64, 67, 0.3), 0px 1px 3px 1px rgba(60, 64, 67, 0.15);\n",
              "      fill: #174EA6;\n",
              "    }\n",
              "\n",
              "    [theme=dark] .colab-df-convert {\n",
              "      background-color: #3B4455;\n",
              "      fill: #D2E3FC;\n",
              "    }\n",
              "\n",
              "    [theme=dark] .colab-df-convert:hover {\n",
              "      background-color: #434B5C;\n",
              "      box-shadow: 0px 1px 3px 1px rgba(0, 0, 0, 0.15);\n",
              "      filter: drop-shadow(0px 1px 2px rgba(0, 0, 0, 0.3));\n",
              "      fill: #FFFFFF;\n",
              "    }\n",
              "  </style>\n",
              "\n",
              "      <script>\n",
              "        const buttonEl =\n",
              "          document.querySelector('#df-deebee32-0bc8-45e2-8c62-cf99bdf8203b button.colab-df-convert');\n",
              "        buttonEl.style.display =\n",
              "          google.colab.kernel.accessAllowed ? 'block' : 'none';\n",
              "\n",
              "        async function convertToInteractive(key) {\n",
              "          const element = document.querySelector('#df-deebee32-0bc8-45e2-8c62-cf99bdf8203b');\n",
              "          const dataTable =\n",
              "            await google.colab.kernel.invokeFunction('convertToInteractive',\n",
              "                                                     [key], {});\n",
              "          if (!dataTable) return;\n",
              "\n",
              "          const docLinkHtml = 'Like what you see? Visit the ' +\n",
              "            '<a target=\"_blank\" href=https://colab.research.google.com/notebooks/data_table.ipynb>data table notebook</a>'\n",
              "            + ' to learn more about interactive tables.';\n",
              "          element.innerHTML = '';\n",
              "          dataTable['output_type'] = 'display_data';\n",
              "          await google.colab.output.renderOutput(dataTable, element);\n",
              "          const docLink = document.createElement('div');\n",
              "          docLink.innerHTML = docLinkHtml;\n",
              "          element.appendChild(docLink);\n",
              "        }\n",
              "      </script>\n",
              "    </div>\n",
              "  </div>\n",
              "  "
            ]
          },
          "metadata": {},
          "execution_count": 4
        }
      ],
      "source": [
        "wine"
      ]
    },
    {
      "cell_type": "code",
      "execution_count": null,
      "id": "10230b44",
      "metadata": {
        "colab": {
          "base_uri": "https://localhost:8080/"
        },
        "id": "10230b44",
        "outputId": "c5505add-cd9d-436f-979d-d279efdd57d2"
      },
      "outputs": [
        {
          "output_type": "execute_result",
          "data": {
            "text/plain": [
              "fixed acidity           0\n",
              "volatile acidity        0\n",
              "citric acid             0\n",
              "residual sugar          0\n",
              "chlorides               0\n",
              "free sulfur dioxide     0\n",
              "total sulfur dioxide    0\n",
              "density                 0\n",
              "pH                      0\n",
              "sulphates               0\n",
              "alcohol                 0\n",
              "quality                 0\n",
              "type                    0\n",
              "dtype: int64"
            ]
          },
          "metadata": {},
          "execution_count": 5
        }
      ],
      "source": [
        "wine.isna().sum()   #no null values"
      ]
    },
    {
      "cell_type": "code",
      "execution_count": null,
      "id": "4937ca2d",
      "metadata": {
        "colab": {
          "base_uri": "https://localhost:8080/",
          "height": 300
        },
        "id": "4937ca2d",
        "outputId": "7e0d9d0c-8b79-4e61-a5e4-7f0edb4ced4e"
      },
      "outputs": [
        {
          "output_type": "execute_result",
          "data": {
            "text/plain": [
              "       fixed acidity  volatile acidity  citric acid  residual sugar  \\\n",
              "count    6497.000000       6497.000000  6497.000000     6497.000000   \n",
              "mean        7.215307          0.339666     0.318633        5.443235   \n",
              "std         1.296434          0.164636     0.145318        4.757804   \n",
              "min         3.800000          0.080000     0.000000        0.600000   \n",
              "25%         6.400000          0.230000     0.250000        1.800000   \n",
              "50%         7.000000          0.290000     0.310000        3.000000   \n",
              "75%         7.700000          0.400000     0.390000        8.100000   \n",
              "max        15.900000          1.580000     1.660000       65.800000   \n",
              "\n",
              "         chlorides  free sulfur dioxide  total sulfur dioxide      density  \\\n",
              "count  6497.000000          6497.000000           6497.000000  6497.000000   \n",
              "mean      0.056034            30.525319            115.744574     0.994697   \n",
              "std       0.035034            17.749400             56.521855     0.002999   \n",
              "min       0.009000             1.000000              6.000000     0.987110   \n",
              "25%       0.038000            17.000000             77.000000     0.992340   \n",
              "50%       0.047000            29.000000            118.000000     0.994890   \n",
              "75%       0.065000            41.000000            156.000000     0.996990   \n",
              "max       0.611000           289.000000            440.000000     1.038980   \n",
              "\n",
              "                pH    sulphates      alcohol      quality  \n",
              "count  6497.000000  6497.000000  6497.000000  6497.000000  \n",
              "mean      3.218501     0.531268    10.491801     5.818378  \n",
              "std       0.160787     0.148806     1.192712     0.873255  \n",
              "min       2.720000     0.220000     8.000000     3.000000  \n",
              "25%       3.110000     0.430000     9.500000     5.000000  \n",
              "50%       3.210000     0.510000    10.300000     6.000000  \n",
              "75%       3.320000     0.600000    11.300000     6.000000  \n",
              "max       4.010000     2.000000    14.900000     9.000000  "
            ],
            "text/html": [
              "\n",
              "  <div id=\"df-99f1a5cd-1453-42cf-81c5-9749371a4372\">\n",
              "    <div class=\"colab-df-container\">\n",
              "      <div>\n",
              "<style scoped>\n",
              "    .dataframe tbody tr th:only-of-type {\n",
              "        vertical-align: middle;\n",
              "    }\n",
              "\n",
              "    .dataframe tbody tr th {\n",
              "        vertical-align: top;\n",
              "    }\n",
              "\n",
              "    .dataframe thead th {\n",
              "        text-align: right;\n",
              "    }\n",
              "</style>\n",
              "<table border=\"1\" class=\"dataframe\">\n",
              "  <thead>\n",
              "    <tr style=\"text-align: right;\">\n",
              "      <th></th>\n",
              "      <th>fixed acidity</th>\n",
              "      <th>volatile acidity</th>\n",
              "      <th>citric acid</th>\n",
              "      <th>residual sugar</th>\n",
              "      <th>chlorides</th>\n",
              "      <th>free sulfur dioxide</th>\n",
              "      <th>total sulfur dioxide</th>\n",
              "      <th>density</th>\n",
              "      <th>pH</th>\n",
              "      <th>sulphates</th>\n",
              "      <th>alcohol</th>\n",
              "      <th>quality</th>\n",
              "    </tr>\n",
              "  </thead>\n",
              "  <tbody>\n",
              "    <tr>\n",
              "      <th>count</th>\n",
              "      <td>6497.000000</td>\n",
              "      <td>6497.000000</td>\n",
              "      <td>6497.000000</td>\n",
              "      <td>6497.000000</td>\n",
              "      <td>6497.000000</td>\n",
              "      <td>6497.000000</td>\n",
              "      <td>6497.000000</td>\n",
              "      <td>6497.000000</td>\n",
              "      <td>6497.000000</td>\n",
              "      <td>6497.000000</td>\n",
              "      <td>6497.000000</td>\n",
              "      <td>6497.000000</td>\n",
              "    </tr>\n",
              "    <tr>\n",
              "      <th>mean</th>\n",
              "      <td>7.215307</td>\n",
              "      <td>0.339666</td>\n",
              "      <td>0.318633</td>\n",
              "      <td>5.443235</td>\n",
              "      <td>0.056034</td>\n",
              "      <td>30.525319</td>\n",
              "      <td>115.744574</td>\n",
              "      <td>0.994697</td>\n",
              "      <td>3.218501</td>\n",
              "      <td>0.531268</td>\n",
              "      <td>10.491801</td>\n",
              "      <td>5.818378</td>\n",
              "    </tr>\n",
              "    <tr>\n",
              "      <th>std</th>\n",
              "      <td>1.296434</td>\n",
              "      <td>0.164636</td>\n",
              "      <td>0.145318</td>\n",
              "      <td>4.757804</td>\n",
              "      <td>0.035034</td>\n",
              "      <td>17.749400</td>\n",
              "      <td>56.521855</td>\n",
              "      <td>0.002999</td>\n",
              "      <td>0.160787</td>\n",
              "      <td>0.148806</td>\n",
              "      <td>1.192712</td>\n",
              "      <td>0.873255</td>\n",
              "    </tr>\n",
              "    <tr>\n",
              "      <th>min</th>\n",
              "      <td>3.800000</td>\n",
              "      <td>0.080000</td>\n",
              "      <td>0.000000</td>\n",
              "      <td>0.600000</td>\n",
              "      <td>0.009000</td>\n",
              "      <td>1.000000</td>\n",
              "      <td>6.000000</td>\n",
              "      <td>0.987110</td>\n",
              "      <td>2.720000</td>\n",
              "      <td>0.220000</td>\n",
              "      <td>8.000000</td>\n",
              "      <td>3.000000</td>\n",
              "    </tr>\n",
              "    <tr>\n",
              "      <th>25%</th>\n",
              "      <td>6.400000</td>\n",
              "      <td>0.230000</td>\n",
              "      <td>0.250000</td>\n",
              "      <td>1.800000</td>\n",
              "      <td>0.038000</td>\n",
              "      <td>17.000000</td>\n",
              "      <td>77.000000</td>\n",
              "      <td>0.992340</td>\n",
              "      <td>3.110000</td>\n",
              "      <td>0.430000</td>\n",
              "      <td>9.500000</td>\n",
              "      <td>5.000000</td>\n",
              "    </tr>\n",
              "    <tr>\n",
              "      <th>50%</th>\n",
              "      <td>7.000000</td>\n",
              "      <td>0.290000</td>\n",
              "      <td>0.310000</td>\n",
              "      <td>3.000000</td>\n",
              "      <td>0.047000</td>\n",
              "      <td>29.000000</td>\n",
              "      <td>118.000000</td>\n",
              "      <td>0.994890</td>\n",
              "      <td>3.210000</td>\n",
              "      <td>0.510000</td>\n",
              "      <td>10.300000</td>\n",
              "      <td>6.000000</td>\n",
              "    </tr>\n",
              "    <tr>\n",
              "      <th>75%</th>\n",
              "      <td>7.700000</td>\n",
              "      <td>0.400000</td>\n",
              "      <td>0.390000</td>\n",
              "      <td>8.100000</td>\n",
              "      <td>0.065000</td>\n",
              "      <td>41.000000</td>\n",
              "      <td>156.000000</td>\n",
              "      <td>0.996990</td>\n",
              "      <td>3.320000</td>\n",
              "      <td>0.600000</td>\n",
              "      <td>11.300000</td>\n",
              "      <td>6.000000</td>\n",
              "    </tr>\n",
              "    <tr>\n",
              "      <th>max</th>\n",
              "      <td>15.900000</td>\n",
              "      <td>1.580000</td>\n",
              "      <td>1.660000</td>\n",
              "      <td>65.800000</td>\n",
              "      <td>0.611000</td>\n",
              "      <td>289.000000</td>\n",
              "      <td>440.000000</td>\n",
              "      <td>1.038980</td>\n",
              "      <td>4.010000</td>\n",
              "      <td>2.000000</td>\n",
              "      <td>14.900000</td>\n",
              "      <td>9.000000</td>\n",
              "    </tr>\n",
              "  </tbody>\n",
              "</table>\n",
              "</div>\n",
              "      <button class=\"colab-df-convert\" onclick=\"convertToInteractive('df-99f1a5cd-1453-42cf-81c5-9749371a4372')\"\n",
              "              title=\"Convert this dataframe to an interactive table.\"\n",
              "              style=\"display:none;\">\n",
              "        \n",
              "  <svg xmlns=\"http://www.w3.org/2000/svg\" height=\"24px\"viewBox=\"0 0 24 24\"\n",
              "       width=\"24px\">\n",
              "    <path d=\"M0 0h24v24H0V0z\" fill=\"none\"/>\n",
              "    <path d=\"M18.56 5.44l.94 2.06.94-2.06 2.06-.94-2.06-.94-.94-2.06-.94 2.06-2.06.94zm-11 1L8.5 8.5l.94-2.06 2.06-.94-2.06-.94L8.5 2.5l-.94 2.06-2.06.94zm10 10l.94 2.06.94-2.06 2.06-.94-2.06-.94-.94-2.06-.94 2.06-2.06.94z\"/><path d=\"M17.41 7.96l-1.37-1.37c-.4-.4-.92-.59-1.43-.59-.52 0-1.04.2-1.43.59L10.3 9.45l-7.72 7.72c-.78.78-.78 2.05 0 2.83L4 21.41c.39.39.9.59 1.41.59.51 0 1.02-.2 1.41-.59l7.78-7.78 2.81-2.81c.8-.78.8-2.07 0-2.86zM5.41 20L4 18.59l7.72-7.72 1.47 1.35L5.41 20z\"/>\n",
              "  </svg>\n",
              "      </button>\n",
              "      \n",
              "  <style>\n",
              "    .colab-df-container {\n",
              "      display:flex;\n",
              "      flex-wrap:wrap;\n",
              "      gap: 12px;\n",
              "    }\n",
              "\n",
              "    .colab-df-convert {\n",
              "      background-color: #E8F0FE;\n",
              "      border: none;\n",
              "      border-radius: 50%;\n",
              "      cursor: pointer;\n",
              "      display: none;\n",
              "      fill: #1967D2;\n",
              "      height: 32px;\n",
              "      padding: 0 0 0 0;\n",
              "      width: 32px;\n",
              "    }\n",
              "\n",
              "    .colab-df-convert:hover {\n",
              "      background-color: #E2EBFA;\n",
              "      box-shadow: 0px 1px 2px rgba(60, 64, 67, 0.3), 0px 1px 3px 1px rgba(60, 64, 67, 0.15);\n",
              "      fill: #174EA6;\n",
              "    }\n",
              "\n",
              "    [theme=dark] .colab-df-convert {\n",
              "      background-color: #3B4455;\n",
              "      fill: #D2E3FC;\n",
              "    }\n",
              "\n",
              "    [theme=dark] .colab-df-convert:hover {\n",
              "      background-color: #434B5C;\n",
              "      box-shadow: 0px 1px 3px 1px rgba(0, 0, 0, 0.15);\n",
              "      filter: drop-shadow(0px 1px 2px rgba(0, 0, 0, 0.3));\n",
              "      fill: #FFFFFF;\n",
              "    }\n",
              "  </style>\n",
              "\n",
              "      <script>\n",
              "        const buttonEl =\n",
              "          document.querySelector('#df-99f1a5cd-1453-42cf-81c5-9749371a4372 button.colab-df-convert');\n",
              "        buttonEl.style.display =\n",
              "          google.colab.kernel.accessAllowed ? 'block' : 'none';\n",
              "\n",
              "        async function convertToInteractive(key) {\n",
              "          const element = document.querySelector('#df-99f1a5cd-1453-42cf-81c5-9749371a4372');\n",
              "          const dataTable =\n",
              "            await google.colab.kernel.invokeFunction('convertToInteractive',\n",
              "                                                     [key], {});\n",
              "          if (!dataTable) return;\n",
              "\n",
              "          const docLinkHtml = 'Like what you see? Visit the ' +\n",
              "            '<a target=\"_blank\" href=https://colab.research.google.com/notebooks/data_table.ipynb>data table notebook</a>'\n",
              "            + ' to learn more about interactive tables.';\n",
              "          element.innerHTML = '';\n",
              "          dataTable['output_type'] = 'display_data';\n",
              "          await google.colab.output.renderOutput(dataTable, element);\n",
              "          const docLink = document.createElement('div');\n",
              "          docLink.innerHTML = docLinkHtml;\n",
              "          element.appendChild(docLink);\n",
              "        }\n",
              "      </script>\n",
              "    </div>\n",
              "  </div>\n",
              "  "
            ]
          },
          "metadata": {},
          "execution_count": 6
        }
      ],
      "source": [
        "wine.describe()"
      ]
    },
    {
      "cell_type": "code",
      "source": [
        "def swap_columns(df, col1, col2):\n",
        "    col_list = list(df.columns)\n",
        "    x, y = col_list.index(col1), col_list.index(col2)\n",
        "    col_list[y], col_list[x] = col_list[x], col_list[y]\n",
        "    df = df[col_list]\n",
        "    return df"
      ],
      "metadata": {
        "id": "Z2Q6G_Ru7158"
      },
      "id": "Z2Q6G_Ru7158",
      "execution_count": null,
      "outputs": []
    },
    {
      "cell_type": "code",
      "source": [
        "wine = swap_columns(wine,'quality', 'type')"
      ],
      "metadata": {
        "id": "0uFLupX68GlD"
      },
      "id": "0uFLupX68GlD",
      "execution_count": null,
      "outputs": []
    },
    {
      "cell_type": "code",
      "source": [
        "wine['type'] = pd.factorize(wine['type'])[0]"
      ],
      "metadata": {
        "id": "1JttG1BB9_LR"
      },
      "id": "1JttG1BB9_LR",
      "execution_count": null,
      "outputs": []
    },
    {
      "cell_type": "markdown",
      "source": [
        "Correlation plot which shows that some of the variables are highly correlated with each other, showing multicollinearity. We also notice that none of the variables have strong correlation with the target variable, with alcohol having a moderate correlation."
      ],
      "metadata": {
        "id": "E8Wxu7OHtgYJ"
      },
      "id": "E8Wxu7OHtgYJ"
    },
    {
      "cell_type": "code",
      "source": [
        "corr = wine.corr()\n",
        "corr.style.background_gradient(cmap='coolwarm')"
      ],
      "metadata": {
        "colab": {
          "base_uri": "https://localhost:8080/",
          "height": 457
        },
        "id": "DZRG549kWwUq",
        "outputId": "d11130b2-4baa-4401-9607-665bde819d1f"
      },
      "id": "DZRG549kWwUq",
      "execution_count": null,
      "outputs": [
        {
          "output_type": "execute_result",
          "data": {
            "text/plain": [
              "<pandas.io.formats.style.Styler at 0x7fa94c71dd90>"
            ],
            "text/html": [
              "<style type=\"text/css\">\n",
              "#T_489ed_row0_col0, #T_489ed_row1_col1, #T_489ed_row2_col2, #T_489ed_row3_col3, #T_489ed_row4_col4, #T_489ed_row5_col5, #T_489ed_row6_col6, #T_489ed_row7_col7, #T_489ed_row8_col8, #T_489ed_row9_col9, #T_489ed_row10_col10, #T_489ed_row11_col11, #T_489ed_row12_col12 {\n",
              "  background-color: #b40426;\n",
              "  color: #f1f1f1;\n",
              "}\n",
              "#T_489ed_row0_col1 {\n",
              "  background-color: #cedaeb;\n",
              "  color: #000000;\n",
              "}\n",
              "#T_489ed_row0_col2 {\n",
              "  background-color: #dfdbd9;\n",
              "  color: #000000;\n",
              "}\n",
              "#T_489ed_row0_col3 {\n",
              "  background-color: #7597f6;\n",
              "  color: #f1f1f1;\n",
              "}\n",
              "#T_489ed_row0_col4, #T_489ed_row0_col9, #T_489ed_row9_col1 {\n",
              "  background-color: #cfdaea;\n",
              "  color: #000000;\n",
              "}\n",
              "#T_489ed_row0_col5, #T_489ed_row9_col3 {\n",
              "  background-color: #6282ea;\n",
              "  color: #f1f1f1;\n",
              "}\n",
              "#T_489ed_row0_col6 {\n",
              "  background-color: #81a4fb;\n",
              "  color: #f1f1f1;\n",
              "}\n",
              "#T_489ed_row0_col7 {\n",
              "  background-color: #f7b497;\n",
              "  color: #000000;\n",
              "}\n",
              "#T_489ed_row0_col8, #T_489ed_row8_col0 {\n",
              "  background-color: #4b64d5;\n",
              "  color: #f1f1f1;\n",
              "}\n",
              "#T_489ed_row0_col10 {\n",
              "  background-color: #afcafc;\n",
              "  color: #000000;\n",
              "}\n",
              "#T_489ed_row0_col11, #T_489ed_row9_col11 {\n",
              "  background-color: #f7ad90;\n",
              "  color: #000000;\n",
              "}\n",
              "#T_489ed_row0_col12, #T_489ed_row10_col0 {\n",
              "  background-color: #7295f4;\n",
              "  color: #f1f1f1;\n",
              "}\n",
              "#T_489ed_row1_col0, #T_489ed_row2_col5 {\n",
              "  background-color: #c4d5f3;\n",
              "  color: #000000;\n",
              "}\n",
              "#T_489ed_row1_col2, #T_489ed_row2_col8, #T_489ed_row6_col0, #T_489ed_row6_col1, #T_489ed_row6_col4, #T_489ed_row6_col9, #T_489ed_row6_col11, #T_489ed_row7_col10, #T_489ed_row7_col12, #T_489ed_row10_col3, #T_489ed_row10_col7, #T_489ed_row11_col5, #T_489ed_row11_col6 {\n",
              "  background-color: #3b4cc0;\n",
              "  color: #f1f1f1;\n",
              "}\n",
              "#T_489ed_row1_col3, #T_489ed_row3_col4 {\n",
              "  background-color: #5f7fe8;\n",
              "  color: #f1f1f1;\n",
              "}\n",
              "#T_489ed_row1_col4 {\n",
              "  background-color: #e0dbd8;\n",
              "  color: #000000;\n",
              "}\n",
              "#T_489ed_row1_col5, #T_489ed_row4_col12 {\n",
              "  background-color: #536edd;\n",
              "  color: #f1f1f1;\n",
              "}\n",
              "#T_489ed_row1_col6, #T_489ed_row4_col3 {\n",
              "  background-color: #7093f3;\n",
              "  color: #f1f1f1;\n",
              "}\n",
              "#T_489ed_row1_col7 {\n",
              "  background-color: #edd2c3;\n",
              "  color: #000000;\n",
              "}\n",
              "#T_489ed_row1_col8 {\n",
              "  background-color: #cdd9ec;\n",
              "  color: #000000;\n",
              "}\n",
              "#T_489ed_row1_col9, #T_489ed_row9_col8, #T_489ed_row10_col11 {\n",
              "  background-color: #bed2f6;\n",
              "  color: #000000;\n",
              "}\n",
              "#T_489ed_row1_col10 {\n",
              "  background-color: #bbd1f8;\n",
              "  color: #000000;\n",
              "}\n",
              "#T_489ed_row1_col11 {\n",
              "  background-color: #ee8669;\n",
              "  color: #f1f1f1;\n",
              "}\n",
              "#T_489ed_row1_col12 {\n",
              "  background-color: #4358cb;\n",
              "  color: #f1f1f1;\n",
              "}\n",
              "#T_489ed_row2_col0 {\n",
              "  background-color: #dadce0;\n",
              "  color: #000000;\n",
              "}\n",
              "#T_489ed_row2_col1 {\n",
              "  background-color: #4257c9;\n",
              "  color: #f1f1f1;\n",
              "}\n",
              "#T_489ed_row2_col3, #T_489ed_row5_col2 {\n",
              "  background-color: #b6cefa;\n",
              "  color: #000000;\n",
              "}\n",
              "#T_489ed_row2_col4, #T_489ed_row4_col6, #T_489ed_row6_col10, #T_489ed_row8_col12, #T_489ed_row9_col6, #T_489ed_row12_col9 {\n",
              "  background-color: #8caffe;\n",
              "  color: #000000;\n",
              "}\n",
              "#T_489ed_row2_col6, #T_489ed_row4_col9 {\n",
              "  background-color: #e3d9d3;\n",
              "  color: #000000;\n",
              "}\n",
              "#T_489ed_row2_col7 {\n",
              "  background-color: #d3dbe7;\n",
              "  color: #000000;\n",
              "}\n",
              "#T_489ed_row2_col9 {\n",
              "  background-color: #90b2fe;\n",
              "  color: #000000;\n",
              "}\n",
              "#T_489ed_row2_col10 {\n",
              "  background-color: #c0d4f5;\n",
              "  color: #000000;\n",
              "}\n",
              "#T_489ed_row2_col11, #T_489ed_row4_col2 {\n",
              "  background-color: #9fbfff;\n",
              "  color: #000000;\n",
              "}\n",
              "#T_489ed_row2_col12, #T_489ed_row5_col10 {\n",
              "  background-color: #9ebeff;\n",
              "  color: #000000;\n",
              "}\n",
              "#T_489ed_row3_col0 {\n",
              "  background-color: #6e90f2;\n",
              "  color: #f1f1f1;\n",
              "}\n",
              "#T_489ed_row3_col1 {\n",
              "  background-color: #6b8df0;\n",
              "  color: #f1f1f1;\n",
              "}\n",
              "#T_489ed_row3_col2 {\n",
              "  background-color: #b9d0f9;\n",
              "  color: #000000;\n",
              "}\n",
              "#T_489ed_row3_col5 {\n",
              "  background-color: #f1ccb8;\n",
              "  color: #000000;\n",
              "}\n",
              "#T_489ed_row3_col6 {\n",
              "  background-color: #f7aa8c;\n",
              "  color: #000000;\n",
              "}\n",
              "#T_489ed_row3_col7 {\n",
              "  background-color: #f59f80;\n",
              "  color: #000000;\n",
              "}\n",
              "#T_489ed_row3_col8 {\n",
              "  background-color: #4961d2;\n",
              "  color: #f1f1f1;\n",
              "}\n",
              "#T_489ed_row3_col9 {\n",
              "  background-color: #506bda;\n",
              "  color: #f1f1f1;\n",
              "}\n",
              "#T_489ed_row3_col10, #T_489ed_row9_col5 {\n",
              "  background-color: #799cf8;\n",
              "  color: #f1f1f1;\n",
              "}\n",
              "#T_489ed_row3_col11, #T_489ed_row3_col12 {\n",
              "  background-color: #7da0f9;\n",
              "  color: #f1f1f1;\n",
              "}\n",
              "#T_489ed_row4_col0 {\n",
              "  background-color: #d5dbe5;\n",
              "  color: #000000;\n",
              "}\n",
              "#T_489ed_row4_col1, #T_489ed_row5_col3, #T_489ed_row9_col7 {\n",
              "  background-color: #ebd3c6;\n",
              "  color: #000000;\n",
              "}\n",
              "#T_489ed_row4_col5, #T_489ed_row12_col0 {\n",
              "  background-color: #779af7;\n",
              "  color: #f1f1f1;\n",
              "}\n",
              "#T_489ed_row4_col7 {\n",
              "  background-color: #f4c5ad;\n",
              "  color: #000000;\n",
              "}\n",
              "#T_489ed_row4_col8 {\n",
              "  background-color: #98b9ff;\n",
              "  color: #000000;\n",
              "}\n",
              "#T_489ed_row4_col10, #T_489ed_row7_col8, #T_489ed_row10_col6 {\n",
              "  background-color: #8fb1fe;\n",
              "  color: #000000;\n",
              "}\n",
              "#T_489ed_row4_col11 {\n",
              "  background-color: #f7a889;\n",
              "  color: #000000;\n",
              "}\n",
              "#T_489ed_row5_col0, #T_489ed_row8_col2 {\n",
              "  background-color: #445acc;\n",
              "  color: #f1f1f1;\n",
              "}\n",
              "#T_489ed_row5_col1 {\n",
              "  background-color: #485fd1;\n",
              "  color: #f1f1f1;\n",
              "}\n",
              "#T_489ed_row5_col4 {\n",
              "  background-color: #4e68d8;\n",
              "  color: #f1f1f1;\n",
              "}\n",
              "#T_489ed_row5_col6 {\n",
              "  background-color: #e7745b;\n",
              "  color: #f1f1f1;\n",
              "}\n",
              "#T_489ed_row5_col7 {\n",
              "  background-color: #c7d7f0;\n",
              "  color: #000000;\n",
              "}\n",
              "#T_489ed_row5_col8, #T_489ed_row11_col2 {\n",
              "  background-color: #6687ed;\n",
              "  color: #f1f1f1;\n",
              "}\n",
              "#T_489ed_row5_col9, #T_489ed_row6_col8, #T_489ed_row8_col3 {\n",
              "  background-color: #4f69d9;\n",
              "  color: #f1f1f1;\n",
              "}\n",
              "#T_489ed_row5_col11 {\n",
              "  background-color: #6485ec;\n",
              "  color: #f1f1f1;\n",
              "}\n",
              "#T_489ed_row5_col12 {\n",
              "  background-color: #96b7ff;\n",
              "  color: #000000;\n",
              "}\n",
              "#T_489ed_row6_col2, #T_489ed_row8_col7 {\n",
              "  background-color: #c5d6f2;\n",
              "  color: #000000;\n",
              "}\n",
              "#T_489ed_row6_col3 {\n",
              "  background-color: #f5c4ac;\n",
              "  color: #000000;\n",
              "}\n",
              "#T_489ed_row6_col5 {\n",
              "  background-color: #ec7f63;\n",
              "  color: #f1f1f1;\n",
              "}\n",
              "#T_489ed_row6_col7 {\n",
              "  background-color: #c9d7f0;\n",
              "  color: #000000;\n",
              "}\n",
              "#T_489ed_row6_col12 {\n",
              "  background-color: #7b9ff9;\n",
              "  color: #f1f1f1;\n",
              "}\n",
              "#T_489ed_row7_col0 {\n",
              "  background-color: #f1cdba;\n",
              "  color: #000000;\n",
              "}\n",
              "#T_489ed_row7_col1 {\n",
              "  background-color: #d9dce1;\n",
              "  color: #000000;\n",
              "}\n",
              "#T_489ed_row7_col2 {\n",
              "  background-color: #aec9fc;\n",
              "  color: #000000;\n",
              "}\n",
              "#T_489ed_row7_col3, #T_489ed_row12_col10 {\n",
              "  background-color: #f7b79b;\n",
              "  color: #000000;\n",
              "}\n",
              "#T_489ed_row7_col4 {\n",
              "  background-color: #dddcdc;\n",
              "  color: #000000;\n",
              "}\n",
              "#T_489ed_row7_col5, #T_489ed_row10_col8, #T_489ed_row12_col2 {\n",
              "  background-color: #abc8fd;\n",
              "  color: #000000;\n",
              "}\n",
              "#T_489ed_row7_col6 {\n",
              "  background-color: #cad8ef;\n",
              "  color: #000000;\n",
              "}\n",
              "#T_489ed_row7_col9 {\n",
              "  background-color: #c6d6f1;\n",
              "  color: #000000;\n",
              "}\n",
              "#T_489ed_row7_col11 {\n",
              "  background-color: #f6bfa6;\n",
              "  color: #000000;\n",
              "}\n",
              "#T_489ed_row8_col1, #T_489ed_row8_col10 {\n",
              "  background-color: #d7dce3;\n",
              "  color: #000000;\n",
              "}\n",
              "#T_489ed_row8_col4 {\n",
              "  background-color: #8db0fe;\n",
              "  color: #000000;\n",
              "}\n",
              "#T_489ed_row8_col5 {\n",
              "  background-color: #82a6fb;\n",
              "  color: #f1f1f1;\n",
              "}\n",
              "#T_489ed_row8_col6 {\n",
              "  background-color: #94b6ff;\n",
              "  color: #000000;\n",
              "}\n",
              "#T_489ed_row8_col9 {\n",
              "  background-color: #b5cdfa;\n",
              "  color: #000000;\n",
              "}\n",
              "#T_489ed_row8_col11 {\n",
              "  background-color: #f2cab5;\n",
              "  color: #000000;\n",
              "}\n",
              "#T_489ed_row9_col0 {\n",
              "  background-color: #d6dce4;\n",
              "  color: #000000;\n",
              "}\n",
              "#T_489ed_row9_col2 {\n",
              "  background-color: #a3c2fe;\n",
              "  color: #000000;\n",
              "}\n",
              "#T_489ed_row9_col4 {\n",
              "  background-color: #e4d9d2;\n",
              "  color: #000000;\n",
              "}\n",
              "#T_489ed_row9_col10 {\n",
              "  background-color: #c1d4f4;\n",
              "  color: #000000;\n",
              "}\n",
              "#T_489ed_row9_col12, #T_489ed_row12_col8 {\n",
              "  background-color: #92b4fe;\n",
              "  color: #000000;\n",
              "}\n",
              "#T_489ed_row10_col1, #T_489ed_row10_col2 {\n",
              "  background-color: #93b5fe;\n",
              "  color: #000000;\n",
              "}\n",
              "#T_489ed_row10_col4 {\n",
              "  background-color: #3f53c6;\n",
              "  color: #f1f1f1;\n",
              "}\n",
              "#T_489ed_row10_col5 {\n",
              "  background-color: #7a9df8;\n",
              "  color: #f1f1f1;\n",
              "}\n",
              "#T_489ed_row10_col9 {\n",
              "  background-color: #80a3fa;\n",
              "  color: #f1f1f1;\n",
              "}\n",
              "#T_489ed_row10_col12 {\n",
              "  background-color: #eed0c0;\n",
              "  color: #000000;\n",
              "}\n",
              "#T_489ed_row11_col0 {\n",
              "  background-color: #f3c7b1;\n",
              "  color: #000000;\n",
              "}\n",
              "#T_489ed_row11_col1 {\n",
              "  background-color: #f39778;\n",
              "  color: #000000;\n",
              "}\n",
              "#T_489ed_row11_col3 {\n",
              "  background-color: #3c4ec2;\n",
              "  color: #f1f1f1;\n",
              "}\n",
              "#T_489ed_row11_col4 {\n",
              "  background-color: #f4c6af;\n",
              "  color: #000000;\n",
              "}\n",
              "#T_489ed_row11_col7 {\n",
              "  background-color: #f5c0a7;\n",
              "  color: #000000;\n",
              "}\n",
              "#T_489ed_row11_col8 {\n",
              "  background-color: #dbdcde;\n",
              "  color: #000000;\n",
              "}\n",
              "#T_489ed_row11_col9 {\n",
              "  background-color: #f2cbb7;\n",
              "  color: #000000;\n",
              "}\n",
              "#T_489ed_row11_col10, #T_489ed_row12_col6 {\n",
              "  background-color: #bcd2f7;\n",
              "  color: #000000;\n",
              "}\n",
              "#T_489ed_row11_col12 {\n",
              "  background-color: #6788ee;\n",
              "  color: #f1f1f1;\n",
              "}\n",
              "#T_489ed_row12_col1 {\n",
              "  background-color: #5a78e4;\n",
              "  color: #f1f1f1;\n",
              "}\n",
              "#T_489ed_row12_col3 {\n",
              "  background-color: #88abfd;\n",
              "  color: #000000;\n",
              "}\n",
              "#T_489ed_row12_col4 {\n",
              "  background-color: #4c66d6;\n",
              "  color: #f1f1f1;\n",
              "}\n",
              "#T_489ed_row12_col5 {\n",
              "  background-color: #b2ccfb;\n",
              "  color: #000000;\n",
              "}\n",
              "#T_489ed_row12_col7 {\n",
              "  background-color: #84a7fc;\n",
              "  color: #f1f1f1;\n",
              "}\n",
              "#T_489ed_row12_col11 {\n",
              "  background-color: #adc9fd;\n",
              "  color: #000000;\n",
              "}\n",
              "</style>\n",
              "<table id=\"T_489ed_\" class=\"dataframe\">\n",
              "  <thead>\n",
              "    <tr>\n",
              "      <th class=\"blank level0\" >&nbsp;</th>\n",
              "      <th class=\"col_heading level0 col0\" >fixed acidity</th>\n",
              "      <th class=\"col_heading level0 col1\" >volatile acidity</th>\n",
              "      <th class=\"col_heading level0 col2\" >citric acid</th>\n",
              "      <th class=\"col_heading level0 col3\" >residual sugar</th>\n",
              "      <th class=\"col_heading level0 col4\" >chlorides</th>\n",
              "      <th class=\"col_heading level0 col5\" >free sulfur dioxide</th>\n",
              "      <th class=\"col_heading level0 col6\" >total sulfur dioxide</th>\n",
              "      <th class=\"col_heading level0 col7\" >density</th>\n",
              "      <th class=\"col_heading level0 col8\" >pH</th>\n",
              "      <th class=\"col_heading level0 col9\" >sulphates</th>\n",
              "      <th class=\"col_heading level0 col10\" >alcohol</th>\n",
              "      <th class=\"col_heading level0 col11\" >type</th>\n",
              "      <th class=\"col_heading level0 col12\" >quality</th>\n",
              "    </tr>\n",
              "  </thead>\n",
              "  <tbody>\n",
              "    <tr>\n",
              "      <th id=\"T_489ed_level0_row0\" class=\"row_heading level0 row0\" >fixed acidity</th>\n",
              "      <td id=\"T_489ed_row0_col0\" class=\"data row0 col0\" >1.000000</td>\n",
              "      <td id=\"T_489ed_row0_col1\" class=\"data row0 col1\" >0.219008</td>\n",
              "      <td id=\"T_489ed_row0_col2\" class=\"data row0 col2\" >0.324436</td>\n",
              "      <td id=\"T_489ed_row0_col3\" class=\"data row0 col3\" >-0.111981</td>\n",
              "      <td id=\"T_489ed_row0_col4\" class=\"data row0 col4\" >0.298195</td>\n",
              "      <td id=\"T_489ed_row0_col5\" class=\"data row0 col5\" >-0.282735</td>\n",
              "      <td id=\"T_489ed_row0_col6\" class=\"data row0 col6\" >-0.329054</td>\n",
              "      <td id=\"T_489ed_row0_col7\" class=\"data row0 col7\" >0.458910</td>\n",
              "      <td id=\"T_489ed_row0_col8\" class=\"data row0 col8\" >-0.252700</td>\n",
              "      <td id=\"T_489ed_row0_col9\" class=\"data row0 col9\" >0.299568</td>\n",
              "      <td id=\"T_489ed_row0_col10\" class=\"data row0 col10\" >-0.095452</td>\n",
              "      <td id=\"T_489ed_row0_col11\" class=\"data row0 col11\" >0.486740</td>\n",
              "      <td id=\"T_489ed_row0_col12\" class=\"data row0 col12\" >-0.076743</td>\n",
              "    </tr>\n",
              "    <tr>\n",
              "      <th id=\"T_489ed_level0_row1\" class=\"row_heading level0 row1\" >volatile acidity</th>\n",
              "      <td id=\"T_489ed_row1_col0\" class=\"data row1 col0\" >0.219008</td>\n",
              "      <td id=\"T_489ed_row1_col1\" class=\"data row1 col1\" >1.000000</td>\n",
              "      <td id=\"T_489ed_row1_col2\" class=\"data row1 col2\" >-0.377981</td>\n",
              "      <td id=\"T_489ed_row1_col3\" class=\"data row1 col3\" >-0.196011</td>\n",
              "      <td id=\"T_489ed_row1_col4\" class=\"data row1 col4\" >0.377124</td>\n",
              "      <td id=\"T_489ed_row1_col5\" class=\"data row1 col5\" >-0.352557</td>\n",
              "      <td id=\"T_489ed_row1_col6\" class=\"data row1 col6\" >-0.414476</td>\n",
              "      <td id=\"T_489ed_row1_col7\" class=\"data row1 col7\" >0.271296</td>\n",
              "      <td id=\"T_489ed_row1_col8\" class=\"data row1 col8\" >0.261454</td>\n",
              "      <td id=\"T_489ed_row1_col9\" class=\"data row1 col9\" >0.225984</td>\n",
              "      <td id=\"T_489ed_row1_col10\" class=\"data row1 col10\" >-0.037640</td>\n",
              "      <td id=\"T_489ed_row1_col11\" class=\"data row1 col11\" >0.653036</td>\n",
              "      <td id=\"T_489ed_row1_col12\" class=\"data row1 col12\" >-0.265699</td>\n",
              "    </tr>\n",
              "    <tr>\n",
              "      <th id=\"T_489ed_level0_row2\" class=\"row_heading level0 row2\" >citric acid</th>\n",
              "      <td id=\"T_489ed_row2_col0\" class=\"data row2 col0\" >0.324436</td>\n",
              "      <td id=\"T_489ed_row2_col1\" class=\"data row2 col1\" >-0.377981</td>\n",
              "      <td id=\"T_489ed_row2_col2\" class=\"data row2 col2\" >1.000000</td>\n",
              "      <td id=\"T_489ed_row2_col3\" class=\"data row2 col3\" >0.142451</td>\n",
              "      <td id=\"T_489ed_row2_col4\" class=\"data row2 col4\" >0.038998</td>\n",
              "      <td id=\"T_489ed_row2_col5\" class=\"data row2 col5\" >0.133126</td>\n",
              "      <td id=\"T_489ed_row2_col6\" class=\"data row2 col6\" >0.195242</td>\n",
              "      <td id=\"T_489ed_row2_col7\" class=\"data row2 col7\" >0.096154</td>\n",
              "      <td id=\"T_489ed_row2_col8\" class=\"data row2 col8\" >-0.329808</td>\n",
              "      <td id=\"T_489ed_row2_col9\" class=\"data row2 col9\" >0.056197</td>\n",
              "      <td id=\"T_489ed_row2_col10\" class=\"data row2 col10\" >-0.010493</td>\n",
              "      <td id=\"T_489ed_row2_col11\" class=\"data row2 col11\" >-0.187397</td>\n",
              "      <td id=\"T_489ed_row2_col12\" class=\"data row2 col12\" >0.085532</td>\n",
              "    </tr>\n",
              "    <tr>\n",
              "      <th id=\"T_489ed_level0_row3\" class=\"row_heading level0 row3\" >residual sugar</th>\n",
              "      <td id=\"T_489ed_row3_col0\" class=\"data row3 col0\" >-0.111981</td>\n",
              "      <td id=\"T_489ed_row3_col1\" class=\"data row3 col1\" >-0.196011</td>\n",
              "      <td id=\"T_489ed_row3_col2\" class=\"data row3 col2\" >0.142451</td>\n",
              "      <td id=\"T_489ed_row3_col3\" class=\"data row3 col3\" >1.000000</td>\n",
              "      <td id=\"T_489ed_row3_col4\" class=\"data row3 col4\" >-0.128940</td>\n",
              "      <td id=\"T_489ed_row3_col5\" class=\"data row3 col5\" >0.402871</td>\n",
              "      <td id=\"T_489ed_row3_col6\" class=\"data row3 col6\" >0.495482</td>\n",
              "      <td id=\"T_489ed_row3_col7\" class=\"data row3 col7\" >0.552517</td>\n",
              "      <td id=\"T_489ed_row3_col8\" class=\"data row3 col8\" >-0.267320</td>\n",
              "      <td id=\"T_489ed_row3_col9\" class=\"data row3 col9\" >-0.185927</td>\n",
              "      <td id=\"T_489ed_row3_col10\" class=\"data row3 col10\" >-0.359415</td>\n",
              "      <td id=\"T_489ed_row3_col11\" class=\"data row3 col11\" >-0.348821</td>\n",
              "      <td id=\"T_489ed_row3_col12\" class=\"data row3 col12\" >-0.036980</td>\n",
              "    </tr>\n",
              "    <tr>\n",
              "      <th id=\"T_489ed_level0_row4\" class=\"row_heading level0 row4\" >chlorides</th>\n",
              "      <td id=\"T_489ed_row4_col0\" class=\"data row4 col0\" >0.298195</td>\n",
              "      <td id=\"T_489ed_row4_col1\" class=\"data row4 col1\" >0.377124</td>\n",
              "      <td id=\"T_489ed_row4_col2\" class=\"data row4 col2\" >0.038998</td>\n",
              "      <td id=\"T_489ed_row4_col3\" class=\"data row4 col3\" >-0.128940</td>\n",
              "      <td id=\"T_489ed_row4_col4\" class=\"data row4 col4\" >1.000000</td>\n",
              "      <td id=\"T_489ed_row4_col5\" class=\"data row4 col5\" >-0.195045</td>\n",
              "      <td id=\"T_489ed_row4_col6\" class=\"data row4 col6\" >-0.279630</td>\n",
              "      <td id=\"T_489ed_row4_col7\" class=\"data row4 col7\" >0.362615</td>\n",
              "      <td id=\"T_489ed_row4_col8\" class=\"data row4 col8\" >0.044708</td>\n",
              "      <td id=\"T_489ed_row4_col9\" class=\"data row4 col9\" >0.395593</td>\n",
              "      <td id=\"T_489ed_row4_col10\" class=\"data row4 col10\" >-0.256916</td>\n",
              "      <td id=\"T_489ed_row4_col11\" class=\"data row4 col11\" >0.512678</td>\n",
              "      <td id=\"T_489ed_row4_col12\" class=\"data row4 col12\" >-0.200666</td>\n",
              "    </tr>\n",
              "    <tr>\n",
              "      <th id=\"T_489ed_level0_row5\" class=\"row_heading level0 row5\" >free sulfur dioxide</th>\n",
              "      <td id=\"T_489ed_row5_col0\" class=\"data row5 col0\" >-0.282735</td>\n",
              "      <td id=\"T_489ed_row5_col1\" class=\"data row5 col1\" >-0.352557</td>\n",
              "      <td id=\"T_489ed_row5_col2\" class=\"data row5 col2\" >0.133126</td>\n",
              "      <td id=\"T_489ed_row5_col3\" class=\"data row5 col3\" >0.402871</td>\n",
              "      <td id=\"T_489ed_row5_col4\" class=\"data row5 col4\" >-0.195045</td>\n",
              "      <td id=\"T_489ed_row5_col5\" class=\"data row5 col5\" >1.000000</td>\n",
              "      <td id=\"T_489ed_row5_col6\" class=\"data row5 col6\" >0.720934</td>\n",
              "      <td id=\"T_489ed_row5_col7\" class=\"data row5 col7\" >0.025717</td>\n",
              "      <td id=\"T_489ed_row5_col8\" class=\"data row5 col8\" >-0.145854</td>\n",
              "      <td id=\"T_489ed_row5_col9\" class=\"data row5 col9\" >-0.188457</td>\n",
              "      <td id=\"T_489ed_row5_col10\" class=\"data row5 col10\" >-0.179838</td>\n",
              "      <td id=\"T_489ed_row5_col11\" class=\"data row5 col11\" >-0.471644</td>\n",
              "      <td id=\"T_489ed_row5_col12\" class=\"data row5 col12\" >0.055463</td>\n",
              "    </tr>\n",
              "    <tr>\n",
              "      <th id=\"T_489ed_level0_row6\" class=\"row_heading level0 row6\" >total sulfur dioxide</th>\n",
              "      <td id=\"T_489ed_row6_col0\" class=\"data row6 col0\" >-0.329054</td>\n",
              "      <td id=\"T_489ed_row6_col1\" class=\"data row6 col1\" >-0.414476</td>\n",
              "      <td id=\"T_489ed_row6_col2\" class=\"data row6 col2\" >0.195242</td>\n",
              "      <td id=\"T_489ed_row6_col3\" class=\"data row6 col3\" >0.495482</td>\n",
              "      <td id=\"T_489ed_row6_col4\" class=\"data row6 col4\" >-0.279630</td>\n",
              "      <td id=\"T_489ed_row6_col5\" class=\"data row6 col5\" >0.720934</td>\n",
              "      <td id=\"T_489ed_row6_col6\" class=\"data row6 col6\" >1.000000</td>\n",
              "      <td id=\"T_489ed_row6_col7\" class=\"data row6 col7\" >0.032395</td>\n",
              "      <td id=\"T_489ed_row6_col8\" class=\"data row6 col8\" >-0.238413</td>\n",
              "      <td id=\"T_489ed_row6_col9\" class=\"data row6 col9\" >-0.275727</td>\n",
              "      <td id=\"T_489ed_row6_col10\" class=\"data row6 col10\" >-0.265740</td>\n",
              "      <td id=\"T_489ed_row6_col11\" class=\"data row6 col11\" >-0.700357</td>\n",
              "      <td id=\"T_489ed_row6_col12\" class=\"data row6 col12\" >-0.041385</td>\n",
              "    </tr>\n",
              "    <tr>\n",
              "      <th id=\"T_489ed_level0_row7\" class=\"row_heading level0 row7\" >density</th>\n",
              "      <td id=\"T_489ed_row7_col0\" class=\"data row7 col0\" >0.458910</td>\n",
              "      <td id=\"T_489ed_row7_col1\" class=\"data row7 col1\" >0.271296</td>\n",
              "      <td id=\"T_489ed_row7_col2\" class=\"data row7 col2\" >0.096154</td>\n",
              "      <td id=\"T_489ed_row7_col3\" class=\"data row7 col3\" >0.552517</td>\n",
              "      <td id=\"T_489ed_row7_col4\" class=\"data row7 col4\" >0.362615</td>\n",
              "      <td id=\"T_489ed_row7_col5\" class=\"data row7 col5\" >0.025717</td>\n",
              "      <td id=\"T_489ed_row7_col6\" class=\"data row7 col6\" >0.032395</td>\n",
              "      <td id=\"T_489ed_row7_col7\" class=\"data row7 col7\" >1.000000</td>\n",
              "      <td id=\"T_489ed_row7_col8\" class=\"data row7 col8\" >0.011686</td>\n",
              "      <td id=\"T_489ed_row7_col9\" class=\"data row7 col9\" >0.259478</td>\n",
              "      <td id=\"T_489ed_row7_col10\" class=\"data row7 col10\" >-0.686745</td>\n",
              "      <td id=\"T_489ed_row7_col11\" class=\"data row7 col11\" >0.390645</td>\n",
              "      <td id=\"T_489ed_row7_col12\" class=\"data row7 col12\" >-0.305858</td>\n",
              "    </tr>\n",
              "    <tr>\n",
              "      <th id=\"T_489ed_level0_row8\" class=\"row_heading level0 row8\" >pH</th>\n",
              "      <td id=\"T_489ed_row8_col0\" class=\"data row8 col0\" >-0.252700</td>\n",
              "      <td id=\"T_489ed_row8_col1\" class=\"data row8 col1\" >0.261454</td>\n",
              "      <td id=\"T_489ed_row8_col2\" class=\"data row8 col2\" >-0.329808</td>\n",
              "      <td id=\"T_489ed_row8_col3\" class=\"data row8 col3\" >-0.267320</td>\n",
              "      <td id=\"T_489ed_row8_col4\" class=\"data row8 col4\" >0.044708</td>\n",
              "      <td id=\"T_489ed_row8_col5\" class=\"data row8 col5\" >-0.145854</td>\n",
              "      <td id=\"T_489ed_row8_col6\" class=\"data row8 col6\" >-0.238413</td>\n",
              "      <td id=\"T_489ed_row8_col7\" class=\"data row8 col7\" >0.011686</td>\n",
              "      <td id=\"T_489ed_row8_col8\" class=\"data row8 col8\" >1.000000</td>\n",
              "      <td id=\"T_489ed_row8_col9\" class=\"data row8 col9\" >0.192123</td>\n",
              "      <td id=\"T_489ed_row8_col10\" class=\"data row8 col10\" >0.121248</td>\n",
              "      <td id=\"T_489ed_row8_col11\" class=\"data row8 col11\" >0.329129</td>\n",
              "      <td id=\"T_489ed_row8_col12\" class=\"data row8 col12\" >0.019506</td>\n",
              "    </tr>\n",
              "    <tr>\n",
              "      <th id=\"T_489ed_level0_row9\" class=\"row_heading level0 row9\" >sulphates</th>\n",
              "      <td id=\"T_489ed_row9_col0\" class=\"data row9 col0\" >0.299568</td>\n",
              "      <td id=\"T_489ed_row9_col1\" class=\"data row9 col1\" >0.225984</td>\n",
              "      <td id=\"T_489ed_row9_col2\" class=\"data row9 col2\" >0.056197</td>\n",
              "      <td id=\"T_489ed_row9_col3\" class=\"data row9 col3\" >-0.185927</td>\n",
              "      <td id=\"T_489ed_row9_col4\" class=\"data row9 col4\" >0.395593</td>\n",
              "      <td id=\"T_489ed_row9_col5\" class=\"data row9 col5\" >-0.188457</td>\n",
              "      <td id=\"T_489ed_row9_col6\" class=\"data row9 col6\" >-0.275727</td>\n",
              "      <td id=\"T_489ed_row9_col7\" class=\"data row9 col7\" >0.259478</td>\n",
              "      <td id=\"T_489ed_row9_col8\" class=\"data row9 col8\" >0.192123</td>\n",
              "      <td id=\"T_489ed_row9_col9\" class=\"data row9 col9\" >1.000000</td>\n",
              "      <td id=\"T_489ed_row9_col10\" class=\"data row9 col10\" >-0.003029</td>\n",
              "      <td id=\"T_489ed_row9_col11\" class=\"data row9 col11\" >0.487218</td>\n",
              "      <td id=\"T_489ed_row9_col12\" class=\"data row9 col12\" >0.038485</td>\n",
              "    </tr>\n",
              "    <tr>\n",
              "      <th id=\"T_489ed_level0_row10\" class=\"row_heading level0 row10\" >alcohol</th>\n",
              "      <td id=\"T_489ed_row10_col0\" class=\"data row10 col0\" >-0.095452</td>\n",
              "      <td id=\"T_489ed_row10_col1\" class=\"data row10 col1\" >-0.037640</td>\n",
              "      <td id=\"T_489ed_row10_col2\" class=\"data row10 col2\" >-0.010493</td>\n",
              "      <td id=\"T_489ed_row10_col3\" class=\"data row10 col3\" >-0.359415</td>\n",
              "      <td id=\"T_489ed_row10_col4\" class=\"data row10 col4\" >-0.256916</td>\n",
              "      <td id=\"T_489ed_row10_col5\" class=\"data row10 col5\" >-0.179838</td>\n",
              "      <td id=\"T_489ed_row10_col6\" class=\"data row10 col6\" >-0.265740</td>\n",
              "      <td id=\"T_489ed_row10_col7\" class=\"data row10 col7\" >-0.686745</td>\n",
              "      <td id=\"T_489ed_row10_col8\" class=\"data row10 col8\" >0.121248</td>\n",
              "      <td id=\"T_489ed_row10_col9\" class=\"data row10 col9\" >-0.003029</td>\n",
              "      <td id=\"T_489ed_row10_col10\" class=\"data row10 col10\" >1.000000</td>\n",
              "      <td id=\"T_489ed_row10_col11\" class=\"data row10 col11\" >-0.032970</td>\n",
              "      <td id=\"T_489ed_row10_col12\" class=\"data row10 col12\" >0.444319</td>\n",
              "    </tr>\n",
              "    <tr>\n",
              "      <th id=\"T_489ed_level0_row11\" class=\"row_heading level0 row11\" >type</th>\n",
              "      <td id=\"T_489ed_row11_col0\" class=\"data row11 col0\" >0.486740</td>\n",
              "      <td id=\"T_489ed_row11_col1\" class=\"data row11 col1\" >0.653036</td>\n",
              "      <td id=\"T_489ed_row11_col2\" class=\"data row11 col2\" >-0.187397</td>\n",
              "      <td id=\"T_489ed_row11_col3\" class=\"data row11 col3\" >-0.348821</td>\n",
              "      <td id=\"T_489ed_row11_col4\" class=\"data row11 col4\" >0.512678</td>\n",
              "      <td id=\"T_489ed_row11_col5\" class=\"data row11 col5\" >-0.471644</td>\n",
              "      <td id=\"T_489ed_row11_col6\" class=\"data row11 col6\" >-0.700357</td>\n",
              "      <td id=\"T_489ed_row11_col7\" class=\"data row11 col7\" >0.390645</td>\n",
              "      <td id=\"T_489ed_row11_col8\" class=\"data row11 col8\" >0.329129</td>\n",
              "      <td id=\"T_489ed_row11_col9\" class=\"data row11 col9\" >0.487218</td>\n",
              "      <td id=\"T_489ed_row11_col10\" class=\"data row11 col10\" >-0.032970</td>\n",
              "      <td id=\"T_489ed_row11_col11\" class=\"data row11 col11\" >1.000000</td>\n",
              "      <td id=\"T_489ed_row11_col12\" class=\"data row11 col12\" >-0.119323</td>\n",
              "    </tr>\n",
              "    <tr>\n",
              "      <th id=\"T_489ed_level0_row12\" class=\"row_heading level0 row12\" >quality</th>\n",
              "      <td id=\"T_489ed_row12_col0\" class=\"data row12 col0\" >-0.076743</td>\n",
              "      <td id=\"T_489ed_row12_col1\" class=\"data row12 col1\" >-0.265699</td>\n",
              "      <td id=\"T_489ed_row12_col2\" class=\"data row12 col2\" >0.085532</td>\n",
              "      <td id=\"T_489ed_row12_col3\" class=\"data row12 col3\" >-0.036980</td>\n",
              "      <td id=\"T_489ed_row12_col4\" class=\"data row12 col4\" >-0.200666</td>\n",
              "      <td id=\"T_489ed_row12_col5\" class=\"data row12 col5\" >0.055463</td>\n",
              "      <td id=\"T_489ed_row12_col6\" class=\"data row12 col6\" >-0.041385</td>\n",
              "      <td id=\"T_489ed_row12_col7\" class=\"data row12 col7\" >-0.305858</td>\n",
              "      <td id=\"T_489ed_row12_col8\" class=\"data row12 col8\" >0.019506</td>\n",
              "      <td id=\"T_489ed_row12_col9\" class=\"data row12 col9\" >0.038485</td>\n",
              "      <td id=\"T_489ed_row12_col10\" class=\"data row12 col10\" >0.444319</td>\n",
              "      <td id=\"T_489ed_row12_col11\" class=\"data row12 col11\" >-0.119323</td>\n",
              "      <td id=\"T_489ed_row12_col12\" class=\"data row12 col12\" >1.000000</td>\n",
              "    </tr>\n",
              "  </tbody>\n",
              "</table>\n"
            ]
          },
          "metadata": {},
          "execution_count": 10
        }
      ]
    },
    {
      "cell_type": "code",
      "source": [
        "X_train, X_test, y_train, y_test = train_test_split(wine[wine.columns[:-1]], wine[wine.columns[-1:]], test_size=0.25, random_state=42)"
      ],
      "metadata": {
        "id": "4AHaI-VBUlmk"
      },
      "id": "4AHaI-VBUlmk",
      "execution_count": null,
      "outputs": []
    },
    {
      "cell_type": "code",
      "source": [
        "X_train"
      ],
      "metadata": {
        "id": "ziaO7O0uYZeQ",
        "outputId": "775518eb-1b34-47ea-ecdf-4481666706f4",
        "colab": {
          "base_uri": "https://localhost:8080/",
          "height": 424
        }
      },
      "id": "ziaO7O0uYZeQ",
      "execution_count": null,
      "outputs": [
        {
          "output_type": "execute_result",
          "data": {
            "text/plain": [
              "      fixed acidity  volatile acidity  citric acid  residual sugar  chlorides  \\\n",
              "1539            7.3              0.26         0.49             5.0      0.028   \n",
              "1109            9.2              0.22         0.40             2.4      0.054   \n",
              "100             7.4              0.25         0.37            13.5      0.060   \n",
              "5477           10.6              0.31         0.49             2.2      0.063   \n",
              "6416            7.4              0.47         0.46             2.2      0.114   \n",
              "...             ...               ...          ...             ...        ...   \n",
              "3772            6.3              0.24         0.29            13.7      0.035   \n",
              "5191            6.9              0.36         0.25             2.4      0.098   \n",
              "5226           13.4              0.27         0.62             2.6      0.082   \n",
              "5390            8.9              0.40         0.51             2.6      0.052   \n",
              "860             8.1              0.27         0.35             1.7      0.030   \n",
              "\n",
              "      free sulfur dioxide  total sulfur dioxide  density    pH  sulphates  \\\n",
              "1539                 32.0                 107.0  0.99360  3.24       0.54   \n",
              "1109                 18.0                 151.0  0.99520  3.04       0.46   \n",
              "100                  52.0                 192.0  0.99750  3.00       0.44   \n",
              "5477                 18.0                  40.0  0.99760  3.14       0.51   \n",
              "6416                  7.0                  20.0  0.99647  3.32       0.63   \n",
              "...                   ...                   ...      ...   ...        ...   \n",
              "3772                 53.0                 134.0  0.99567  3.17       0.38   \n",
              "5191                  5.0                  16.0  0.99640  3.41       0.60   \n",
              "5226                  6.0                  21.0  1.00020  3.16       0.67   \n",
              "5390                 13.0                  27.0  0.99500  3.32       0.90   \n",
              "860                  38.0                 103.0  0.99255  3.22       0.63   \n",
              "\n",
              "      alcohol  type  \n",
              "1539     10.8     0  \n",
              "1109      9.3     0  \n",
              "100       9.1     0  \n",
              "5477      9.8     1  \n",
              "6416     10.5     1  \n",
              "...       ...   ...  \n",
              "3772     10.6     0  \n",
              "5191     10.1     1  \n",
              "5226      9.7     1  \n",
              "5390     13.4     1  \n",
              "860      10.4     0  \n",
              "\n",
              "[4872 rows x 12 columns]"
            ],
            "text/html": [
              "\n",
              "  <div id=\"df-476cb9a2-24fd-4da2-935d-eea5c4f94509\">\n",
              "    <div class=\"colab-df-container\">\n",
              "      <div>\n",
              "<style scoped>\n",
              "    .dataframe tbody tr th:only-of-type {\n",
              "        vertical-align: middle;\n",
              "    }\n",
              "\n",
              "    .dataframe tbody tr th {\n",
              "        vertical-align: top;\n",
              "    }\n",
              "\n",
              "    .dataframe thead th {\n",
              "        text-align: right;\n",
              "    }\n",
              "</style>\n",
              "<table border=\"1\" class=\"dataframe\">\n",
              "  <thead>\n",
              "    <tr style=\"text-align: right;\">\n",
              "      <th></th>\n",
              "      <th>fixed acidity</th>\n",
              "      <th>volatile acidity</th>\n",
              "      <th>citric acid</th>\n",
              "      <th>residual sugar</th>\n",
              "      <th>chlorides</th>\n",
              "      <th>free sulfur dioxide</th>\n",
              "      <th>total sulfur dioxide</th>\n",
              "      <th>density</th>\n",
              "      <th>pH</th>\n",
              "      <th>sulphates</th>\n",
              "      <th>alcohol</th>\n",
              "      <th>type</th>\n",
              "    </tr>\n",
              "  </thead>\n",
              "  <tbody>\n",
              "    <tr>\n",
              "      <th>1539</th>\n",
              "      <td>7.3</td>\n",
              "      <td>0.26</td>\n",
              "      <td>0.49</td>\n",
              "      <td>5.0</td>\n",
              "      <td>0.028</td>\n",
              "      <td>32.0</td>\n",
              "      <td>107.0</td>\n",
              "      <td>0.99360</td>\n",
              "      <td>3.24</td>\n",
              "      <td>0.54</td>\n",
              "      <td>10.8</td>\n",
              "      <td>0</td>\n",
              "    </tr>\n",
              "    <tr>\n",
              "      <th>1109</th>\n",
              "      <td>9.2</td>\n",
              "      <td>0.22</td>\n",
              "      <td>0.40</td>\n",
              "      <td>2.4</td>\n",
              "      <td>0.054</td>\n",
              "      <td>18.0</td>\n",
              "      <td>151.0</td>\n",
              "      <td>0.99520</td>\n",
              "      <td>3.04</td>\n",
              "      <td>0.46</td>\n",
              "      <td>9.3</td>\n",
              "      <td>0</td>\n",
              "    </tr>\n",
              "    <tr>\n",
              "      <th>100</th>\n",
              "      <td>7.4</td>\n",
              "      <td>0.25</td>\n",
              "      <td>0.37</td>\n",
              "      <td>13.5</td>\n",
              "      <td>0.060</td>\n",
              "      <td>52.0</td>\n",
              "      <td>192.0</td>\n",
              "      <td>0.99750</td>\n",
              "      <td>3.00</td>\n",
              "      <td>0.44</td>\n",
              "      <td>9.1</td>\n",
              "      <td>0</td>\n",
              "    </tr>\n",
              "    <tr>\n",
              "      <th>5477</th>\n",
              "      <td>10.6</td>\n",
              "      <td>0.31</td>\n",
              "      <td>0.49</td>\n",
              "      <td>2.2</td>\n",
              "      <td>0.063</td>\n",
              "      <td>18.0</td>\n",
              "      <td>40.0</td>\n",
              "      <td>0.99760</td>\n",
              "      <td>3.14</td>\n",
              "      <td>0.51</td>\n",
              "      <td>9.8</td>\n",
              "      <td>1</td>\n",
              "    </tr>\n",
              "    <tr>\n",
              "      <th>6416</th>\n",
              "      <td>7.4</td>\n",
              "      <td>0.47</td>\n",
              "      <td>0.46</td>\n",
              "      <td>2.2</td>\n",
              "      <td>0.114</td>\n",
              "      <td>7.0</td>\n",
              "      <td>20.0</td>\n",
              "      <td>0.99647</td>\n",
              "      <td>3.32</td>\n",
              "      <td>0.63</td>\n",
              "      <td>10.5</td>\n",
              "      <td>1</td>\n",
              "    </tr>\n",
              "    <tr>\n",
              "      <th>...</th>\n",
              "      <td>...</td>\n",
              "      <td>...</td>\n",
              "      <td>...</td>\n",
              "      <td>...</td>\n",
              "      <td>...</td>\n",
              "      <td>...</td>\n",
              "      <td>...</td>\n",
              "      <td>...</td>\n",
              "      <td>...</td>\n",
              "      <td>...</td>\n",
              "      <td>...</td>\n",
              "      <td>...</td>\n",
              "    </tr>\n",
              "    <tr>\n",
              "      <th>3772</th>\n",
              "      <td>6.3</td>\n",
              "      <td>0.24</td>\n",
              "      <td>0.29</td>\n",
              "      <td>13.7</td>\n",
              "      <td>0.035</td>\n",
              "      <td>53.0</td>\n",
              "      <td>134.0</td>\n",
              "      <td>0.99567</td>\n",
              "      <td>3.17</td>\n",
              "      <td>0.38</td>\n",
              "      <td>10.6</td>\n",
              "      <td>0</td>\n",
              "    </tr>\n",
              "    <tr>\n",
              "      <th>5191</th>\n",
              "      <td>6.9</td>\n",
              "      <td>0.36</td>\n",
              "      <td>0.25</td>\n",
              "      <td>2.4</td>\n",
              "      <td>0.098</td>\n",
              "      <td>5.0</td>\n",
              "      <td>16.0</td>\n",
              "      <td>0.99640</td>\n",
              "      <td>3.41</td>\n",
              "      <td>0.60</td>\n",
              "      <td>10.1</td>\n",
              "      <td>1</td>\n",
              "    </tr>\n",
              "    <tr>\n",
              "      <th>5226</th>\n",
              "      <td>13.4</td>\n",
              "      <td>0.27</td>\n",
              "      <td>0.62</td>\n",
              "      <td>2.6</td>\n",
              "      <td>0.082</td>\n",
              "      <td>6.0</td>\n",
              "      <td>21.0</td>\n",
              "      <td>1.00020</td>\n",
              "      <td>3.16</td>\n",
              "      <td>0.67</td>\n",
              "      <td>9.7</td>\n",
              "      <td>1</td>\n",
              "    </tr>\n",
              "    <tr>\n",
              "      <th>5390</th>\n",
              "      <td>8.9</td>\n",
              "      <td>0.40</td>\n",
              "      <td>0.51</td>\n",
              "      <td>2.6</td>\n",
              "      <td>0.052</td>\n",
              "      <td>13.0</td>\n",
              "      <td>27.0</td>\n",
              "      <td>0.99500</td>\n",
              "      <td>3.32</td>\n",
              "      <td>0.90</td>\n",
              "      <td>13.4</td>\n",
              "      <td>1</td>\n",
              "    </tr>\n",
              "    <tr>\n",
              "      <th>860</th>\n",
              "      <td>8.1</td>\n",
              "      <td>0.27</td>\n",
              "      <td>0.35</td>\n",
              "      <td>1.7</td>\n",
              "      <td>0.030</td>\n",
              "      <td>38.0</td>\n",
              "      <td>103.0</td>\n",
              "      <td>0.99255</td>\n",
              "      <td>3.22</td>\n",
              "      <td>0.63</td>\n",
              "      <td>10.4</td>\n",
              "      <td>0</td>\n",
              "    </tr>\n",
              "  </tbody>\n",
              "</table>\n",
              "<p>4872 rows × 12 columns</p>\n",
              "</div>\n",
              "      <button class=\"colab-df-convert\" onclick=\"convertToInteractive('df-476cb9a2-24fd-4da2-935d-eea5c4f94509')\"\n",
              "              title=\"Convert this dataframe to an interactive table.\"\n",
              "              style=\"display:none;\">\n",
              "        \n",
              "  <svg xmlns=\"http://www.w3.org/2000/svg\" height=\"24px\"viewBox=\"0 0 24 24\"\n",
              "       width=\"24px\">\n",
              "    <path d=\"M0 0h24v24H0V0z\" fill=\"none\"/>\n",
              "    <path d=\"M18.56 5.44l.94 2.06.94-2.06 2.06-.94-2.06-.94-.94-2.06-.94 2.06-2.06.94zm-11 1L8.5 8.5l.94-2.06 2.06-.94-2.06-.94L8.5 2.5l-.94 2.06-2.06.94zm10 10l.94 2.06.94-2.06 2.06-.94-2.06-.94-.94-2.06-.94 2.06-2.06.94z\"/><path d=\"M17.41 7.96l-1.37-1.37c-.4-.4-.92-.59-1.43-.59-.52 0-1.04.2-1.43.59L10.3 9.45l-7.72 7.72c-.78.78-.78 2.05 0 2.83L4 21.41c.39.39.9.59 1.41.59.51 0 1.02-.2 1.41-.59l7.78-7.78 2.81-2.81c.8-.78.8-2.07 0-2.86zM5.41 20L4 18.59l7.72-7.72 1.47 1.35L5.41 20z\"/>\n",
              "  </svg>\n",
              "      </button>\n",
              "      \n",
              "  <style>\n",
              "    .colab-df-container {\n",
              "      display:flex;\n",
              "      flex-wrap:wrap;\n",
              "      gap: 12px;\n",
              "    }\n",
              "\n",
              "    .colab-df-convert {\n",
              "      background-color: #E8F0FE;\n",
              "      border: none;\n",
              "      border-radius: 50%;\n",
              "      cursor: pointer;\n",
              "      display: none;\n",
              "      fill: #1967D2;\n",
              "      height: 32px;\n",
              "      padding: 0 0 0 0;\n",
              "      width: 32px;\n",
              "    }\n",
              "\n",
              "    .colab-df-convert:hover {\n",
              "      background-color: #E2EBFA;\n",
              "      box-shadow: 0px 1px 2px rgba(60, 64, 67, 0.3), 0px 1px 3px 1px rgba(60, 64, 67, 0.15);\n",
              "      fill: #174EA6;\n",
              "    }\n",
              "\n",
              "    [theme=dark] .colab-df-convert {\n",
              "      background-color: #3B4455;\n",
              "      fill: #D2E3FC;\n",
              "    }\n",
              "\n",
              "    [theme=dark] .colab-df-convert:hover {\n",
              "      background-color: #434B5C;\n",
              "      box-shadow: 0px 1px 3px 1px rgba(0, 0, 0, 0.15);\n",
              "      filter: drop-shadow(0px 1px 2px rgba(0, 0, 0, 0.3));\n",
              "      fill: #FFFFFF;\n",
              "    }\n",
              "  </style>\n",
              "\n",
              "      <script>\n",
              "        const buttonEl =\n",
              "          document.querySelector('#df-476cb9a2-24fd-4da2-935d-eea5c4f94509 button.colab-df-convert');\n",
              "        buttonEl.style.display =\n",
              "          google.colab.kernel.accessAllowed ? 'block' : 'none';\n",
              "\n",
              "        async function convertToInteractive(key) {\n",
              "          const element = document.querySelector('#df-476cb9a2-24fd-4da2-935d-eea5c4f94509');\n",
              "          const dataTable =\n",
              "            await google.colab.kernel.invokeFunction('convertToInteractive',\n",
              "                                                     [key], {});\n",
              "          if (!dataTable) return;\n",
              "\n",
              "          const docLinkHtml = 'Like what you see? Visit the ' +\n",
              "            '<a target=\"_blank\" href=https://colab.research.google.com/notebooks/data_table.ipynb>data table notebook</a>'\n",
              "            + ' to learn more about interactive tables.';\n",
              "          element.innerHTML = '';\n",
              "          dataTable['output_type'] = 'display_data';\n",
              "          await google.colab.output.renderOutput(dataTable, element);\n",
              "          const docLink = document.createElement('div');\n",
              "          docLink.innerHTML = docLinkHtml;\n",
              "          element.appendChild(docLink);\n",
              "        }\n",
              "      </script>\n",
              "    </div>\n",
              "  </div>\n",
              "  "
            ]
          },
          "metadata": {},
          "execution_count": 12
        }
      ]
    },
    {
      "cell_type": "markdown",
      "source": [
        "# Example of Hyperparameter Tuning (XGBoost)"
      ],
      "metadata": {
        "id": "l6rpV6t1u4Jr"
      },
      "id": "l6rpV6t1u4Jr"
    },
    {
      "cell_type": "markdown",
      "source": [
        "Note that many other tests were done but they are quite repetitive and often did not provide sufficient change in performance to be justified, so as to not completely clutter this notebook, we show the most significant example and tests."
      ],
      "metadata": {
        "id": "6ar-nQAV7WtY"
      },
      "id": "6ar-nQAV7WtY"
    },
    {
      "cell_type": "markdown",
      "source": [
        "We start by using cross validation with early stopping to choose best number of trees for a high learning rate of 0.2."
      ],
      "metadata": {
        "id": "P9xZk7MKvzxk"
      },
      "id": "P9xZk7MKvzxk"
    },
    {
      "cell_type": "code",
      "source": [
        "param = {'learning_rate':0.2,'n_estimators':2000, 'objective':'reg:squarederror','seed':123}\n",
        "data_dmatrix = xgb.DMatrix(data=X_train,label=y_train)"
      ],
      "metadata": {
        "id": "Ayzeq2LrpRej"
      },
      "execution_count": null,
      "outputs": [],
      "id": "Ayzeq2LrpRej"
    },
    {
      "cell_type": "code",
      "source": [
        "cv_results = xgb.cv(params = param, dtrain = data_dmatrix, nfold=5,\n",
        "       num_boost_round=2000,early_stopping_rounds=50,metrics=\"rmse\", as_pandas=True, seed=123)"
      ],
      "metadata": {
        "id": "SgKINY-ipLmm"
      },
      "execution_count": null,
      "outputs": [],
      "id": "SgKINY-ipLmm"
    },
    {
      "cell_type": "code",
      "source": [
        "print((cv_results[\"test-rmse-mean\"]).tail(1))"
      ],
      "metadata": {
        "id": "iGsPi9qIrRaB",
        "colab": {
          "base_uri": "https://localhost:8080/"
        },
        "outputId": "9e704ab5-80ea-4351-b440-07ead1ca141f"
      },
      "execution_count": null,
      "outputs": [
        {
          "output_type": "stream",
          "name": "stdout",
          "text": [
            "188    0.646328\n",
            "Name: test-rmse-mean, dtype: float64\n"
          ]
        }
      ],
      "id": "iGsPi9qIrRaB"
    },
    {
      "cell_type": "markdown",
      "source": [
        "Next, we analyze various hyperparameters at this learning rate using 188 trees. We start by analyzing max depth and min child weight."
      ],
      "metadata": {
        "id": "ZYB9BuYFv7QW"
      },
      "id": "ZYB9BuYFv7QW"
    },
    {
      "cell_type": "code",
      "source": [
        "param_test1 = {\n",
        " 'max_depth':range(3,10,2),\n",
        " 'min_child_weight':range(1,6,2)\n",
        "}"
      ],
      "metadata": {
        "id": "v8nVD4l_rkq6"
      },
      "execution_count": null,
      "outputs": [],
      "id": "v8nVD4l_rkq6"
    },
    {
      "cell_type": "code",
      "source": [
        "gsearch1 = GridSearchCV(estimator = xgb.XGBRegressor( learning_rate = 0.2, n_estimators=188, max_depth=5, min_child_weight=1,\n",
        " objective= 'reg:squarederror',seed=123),\n",
        " param_grid = param_test1, scoring='neg_mean_squared_error',n_jobs=4, cv=5)\n",
        "gsearch1.fit(X_train,y_train)\n"
      ],
      "metadata": {
        "id": "dx-rcPg5ryHm",
        "colab": {
          "base_uri": "https://localhost:8080/"
        },
        "outputId": "b21ac608-e336-49a0-ce0e-47db38f5e55f"
      },
      "execution_count": null,
      "outputs": [
        {
          "output_type": "execute_result",
          "data": {
            "text/plain": [
              "GridSearchCV(cv=5,\n",
              "             estimator=XGBRegressor(learning_rate=0.2, max_depth=5,\n",
              "                                    n_estimators=188,\n",
              "                                    objective='reg:squarederror', seed=123),\n",
              "             n_jobs=4,\n",
              "             param_grid={'max_depth': range(3, 10, 2),\n",
              "                         'min_child_weight': range(1, 6, 2)},\n",
              "             scoring='neg_mean_squared_error')"
            ]
          },
          "metadata": {},
          "execution_count": 38
        }
      ],
      "id": "dx-rcPg5ryHm"
    },
    {
      "cell_type": "code",
      "source": [
        "gsearch1.best_params_, gsearch1.best_score_"
      ],
      "metadata": {
        "id": "uhHGwAr-uLif",
        "colab": {
          "base_uri": "https://localhost:8080/"
        },
        "outputId": "bb52802c-7d45-4b7e-866c-a80591c21f35"
      },
      "execution_count": null,
      "outputs": [
        {
          "output_type": "execute_result",
          "data": {
            "text/plain": [
              "({'max_depth': 9, 'min_child_weight': 3}, -0.41950980254810133)"
            ]
          },
          "metadata": {},
          "execution_count": 39
        }
      ],
      "id": "uhHGwAr-uLif"
    },
    {
      "cell_type": "code",
      "source": [
        "param_test2 = {\n",
        " 'max_depth':[8,9,10],\n",
        " 'min_child_weight':[2,3,4]\n",
        "}"
      ],
      "metadata": {
        "id": "iGYYXzFEvBkL"
      },
      "execution_count": null,
      "outputs": [],
      "id": "iGYYXzFEvBkL"
    },
    {
      "cell_type": "code",
      "source": [
        "gsearch2 = GridSearchCV(estimator = xgb.XGBRegressor( learning_rate =0.2, n_estimators=188, max_depth=5,\n",
        " min_child_weight=1,\n",
        " objective= 'reg:squarederror', seed=123),\n",
        " param_grid = param_test2, scoring='neg_mean_squared_error',n_jobs=4, cv=5)\n",
        "gsearch2.fit(X_train,y_train)"
      ],
      "metadata": {
        "id": "r_b4vaDIvKHG",
        "colab": {
          "base_uri": "https://localhost:8080/"
        },
        "outputId": "70d0f2ad-0027-4765-f630-fd7d73ffbe57"
      },
      "execution_count": null,
      "outputs": [
        {
          "output_type": "execute_result",
          "data": {
            "text/plain": [
              "GridSearchCV(cv=5,\n",
              "             estimator=XGBRegressor(learning_rate=0.2, max_depth=5,\n",
              "                                    n_estimators=188,\n",
              "                                    objective='reg:squarederror', seed=123),\n",
              "             n_jobs=4,\n",
              "             param_grid={'max_depth': [8, 9, 10],\n",
              "                         'min_child_weight': [2, 3, 4]},\n",
              "             scoring='neg_mean_squared_error')"
            ]
          },
          "metadata": {},
          "execution_count": 42
        }
      ],
      "id": "r_b4vaDIvKHG"
    },
    {
      "cell_type": "code",
      "source": [
        "gsearch2.best_params_, gsearch1.best_score_"
      ],
      "metadata": {
        "id": "jYDwVkNfvTov",
        "colab": {
          "base_uri": "https://localhost:8080/"
        },
        "outputId": "d52c3847-ab2a-42d0-f39b-f2cca1103860"
      },
      "execution_count": null,
      "outputs": [
        {
          "output_type": "execute_result",
          "data": {
            "text/plain": [
              "({'max_depth': 9, 'min_child_weight': 3}, -0.41950980254810133)"
            ]
          },
          "metadata": {},
          "execution_count": 43
        }
      ],
      "id": "jYDwVkNfvTov"
    },
    {
      "cell_type": "code",
      "source": [
        "param_test3 = {\n",
        " 'gamma':[i/10.0 for i in range(0,10)]\n",
        "}"
      ],
      "metadata": {
        "id": "jXCixS4PxTNI"
      },
      "execution_count": null,
      "outputs": [],
      "id": "jXCixS4PxTNI"
    },
    {
      "cell_type": "code",
      "source": [
        "gsearch3 = GridSearchCV(estimator = xgb.XGBRegressor( learning_rate =0.2, n_estimators=188, max_depth=9,\n",
        " gamma=0, min_child_weight = 3,\n",
        " objective= 'reg:squarederror', seed=123),\n",
        " param_grid = param_test3, scoring='neg_mean_squared_error',n_jobs=4, cv=5)\n",
        "gsearch3.fit(X_train,y_train)\n"
      ],
      "metadata": {
        "id": "YEymdVI7xU8X",
        "colab": {
          "base_uri": "https://localhost:8080/"
        },
        "outputId": "b50336ce-149d-43c2-f591-d2ca28d12eb2"
      },
      "execution_count": null,
      "outputs": [
        {
          "output_type": "execute_result",
          "data": {
            "text/plain": [
              "GridSearchCV(cv=5,\n",
              "             estimator=XGBRegressor(learning_rate=0.2, max_depth=9,\n",
              "                                    min_child_weight=3, n_estimators=188,\n",
              "                                    objective='reg:squarederror', seed=123),\n",
              "             n_jobs=4,\n",
              "             param_grid={'gamma': [0.0, 0.1, 0.2, 0.3, 0.4, 0.5, 0.6, 0.7, 0.8,\n",
              "                                   0.9]},\n",
              "             scoring='neg_mean_squared_error')"
            ]
          },
          "metadata": {},
          "execution_count": 45
        }
      ],
      "id": "YEymdVI7xU8X"
    },
    {
      "cell_type": "code",
      "source": [
        "gsearch3.best_params_, gsearch3.best_score_"
      ],
      "metadata": {
        "id": "lu5QukNQxXLe",
        "colab": {
          "base_uri": "https://localhost:8080/"
        },
        "outputId": "4e601a3e-cda5-4460-d6e3-e7d99bd4de74"
      },
      "execution_count": null,
      "outputs": [
        {
          "output_type": "execute_result",
          "data": {
            "text/plain": [
              "({'gamma': 0.0}, -0.41950980254810133)"
            ]
          },
          "metadata": {},
          "execution_count": 46
        }
      ],
      "id": "lu5QukNQxXLe"
    },
    {
      "cell_type": "code",
      "source": [
        "param_test4 = {\n",
        " 'subsample':[i/10.0 for i in range(6,11)],\n",
        " 'colsample_bytree':[i/10.0 for i in range(6,11)]\n",
        "}"
      ],
      "metadata": {
        "id": "EQtRVQiWybjz"
      },
      "execution_count": null,
      "outputs": [],
      "id": "EQtRVQiWybjz"
    },
    {
      "cell_type": "code",
      "source": [
        "gsearch4 = GridSearchCV(estimator = xgb.XGBRegressor( learning_rate =0.2, n_estimators=188, max_depth=9,\n",
        " min_child_weight=3, gamma=0, subsample=0.8, colsample_bytree=0.8,\n",
        " objective= 'reg:squarederror', seed=123),\n",
        " param_grid = param_test4, scoring='neg_mean_squared_error',n_jobs=4, cv=5)\n",
        "gsearch4.fit(X_train,y_train)"
      ],
      "metadata": {
        "id": "XB1-8X6kycjR",
        "colab": {
          "base_uri": "https://localhost:8080/"
        },
        "outputId": "b1af75ed-83fb-402a-acca-44e07f6533b6"
      },
      "execution_count": null,
      "outputs": [
        {
          "output_type": "execute_result",
          "data": {
            "text/plain": [
              "GridSearchCV(cv=5,\n",
              "             estimator=XGBRegressor(colsample_bytree=0.8, learning_rate=0.2,\n",
              "                                    max_depth=9, min_child_weight=3,\n",
              "                                    n_estimators=188,\n",
              "                                    objective='reg:squarederror', seed=123,\n",
              "                                    subsample=0.8),\n",
              "             n_jobs=4,\n",
              "             param_grid={'colsample_bytree': [0.6, 0.7, 0.8, 0.9, 1.0],\n",
              "                         'subsample': [0.6, 0.7, 0.8, 0.9, 1.0]},\n",
              "             scoring='neg_mean_squared_error')"
            ]
          },
          "metadata": {},
          "execution_count": 51
        }
      ],
      "id": "XB1-8X6kycjR"
    },
    {
      "cell_type": "code",
      "source": [
        "gsearch4.best_params_, gsearch4.best_score_"
      ],
      "metadata": {
        "id": "jmFWFx61ytw2",
        "colab": {
          "base_uri": "https://localhost:8080/"
        },
        "outputId": "1df1e462-aa46-4858-9acc-c402f705af01"
      },
      "execution_count": null,
      "outputs": [
        {
          "output_type": "execute_result",
          "data": {
            "text/plain": [
              "({'colsample_bytree': 0.7, 'subsample': 0.8}, -0.4241315378415532)"
            ]
          },
          "metadata": {},
          "execution_count": 49
        }
      ],
      "id": "jmFWFx61ytw2"
    },
    {
      "cell_type": "markdown",
      "source": [
        "Now we lower the learning rate and increase the number of estimators."
      ],
      "metadata": {
        "id": "nvvOgAPFzs7E"
      },
      "id": "nvvOgAPFzs7E"
    },
    {
      "cell_type": "code",
      "source": [
        "param = {'learning_rate':0.05,'n_estimators':2000, 'objective':'reg:squarederror', 'max_depth':9, 'min_child_weight':3, 'subsample':0.8, 'colsample_bytree':0.7, 'gamma':0, 'seed':123}\n",
        "data_dmatrix = xgb.DMatrix(data=X_train,label=y_train)"
      ],
      "metadata": {
        "id": "hiDCm12szp9h"
      },
      "execution_count": null,
      "outputs": [],
      "id": "hiDCm12szp9h"
    },
    {
      "cell_type": "code",
      "source": [
        "cv_results = xgb.cv(params = param, dtrain = data_dmatrix, nfold=5,\n",
        "       num_boost_round=2000,early_stopping_rounds=50,metrics=\"rmse\", as_pandas=True, seed=123)"
      ],
      "metadata": {
        "id": "9KdfAbfIzp9k"
      },
      "execution_count": null,
      "outputs": [],
      "id": "9KdfAbfIzp9k"
    },
    {
      "cell_type": "code",
      "source": [
        "print((cv_results[\"test-rmse-mean\"]).tail(1))"
      ],
      "metadata": {
        "colab": {
          "base_uri": "https://localhost:8080/"
        },
        "outputId": "6ac410af-67a3-4937-9c5f-0059b0e9da41",
        "id": "r19S45BMzp9k"
      },
      "execution_count": null,
      "outputs": [
        {
          "output_type": "stream",
          "name": "stdout",
          "text": [
            "341    0.624324\n",
            "Name: test-rmse-mean, dtype: float64\n"
          ]
        }
      ],
      "id": "r19S45BMzp9k"
    },
    {
      "cell_type": "markdown",
      "source": [
        "# AdaBoost"
      ],
      "metadata": {
        "id": "7YzGQusOI5mB"
      },
      "id": "7YzGQusOI5mB"
    },
    {
      "cell_type": "code",
      "source": [
        "#importing libraries\n",
        "from sklearn.tree import DecisionTreeRegressor\n",
        "from sklearn.ensemble import AdaBoostRegressor\n",
        "\n",
        "\n",
        "#parameter tuned model\n",
        "final_ada = AdaBoostRegressor(base_estimator=DecisionTreeRegressor(),learning_rate=0.2, n_estimators=300, random_state=0)\n",
        "start = time.time()\n",
        "final_ada.fit(X_train, y_train['quality'])\n",
        "end = time.time()\n",
        "preds_ada = final_ada.predict(X_test)\n",
        "rmse = np.sqrt(mean_squared_error(y_test, preds_ada))\n",
        "print(\"Time: %f\" % (end-start))\n",
        "print(\"RMSE Tuned: %f\" % (rmse))\n",
        "\n",
        "#default model\n",
        "final_ada_default = AdaBoostRegressor(base_estimator=DecisionTreeRegressor(), random_state=0)\n",
        "start = time.time()\n",
        "final_ada_default.fit(X_train, y_train['quality'])\n",
        "end = time.time()\n",
        "preds_ada = final_ada_default.predict(X_test)\n",
        "rmse = np.sqrt(mean_squared_error(y_test, preds_ada))\n",
        "print(\"Time: %f\" % (end-start))\n",
        "print(\"RMSE Default: %f\" % (rmse))"
      ],
      "metadata": {
        "colab": {
          "base_uri": "https://localhost:8080/"
        },
        "id": "1Z-FM-3NI4vG",
        "outputId": "9011e8dc-718b-4fb6-c10d-90fa1004c2b7"
      },
      "id": "1Z-FM-3NI4vG",
      "execution_count": null,
      "outputs": [
        {
          "output_type": "stream",
          "name": "stdout",
          "text": [
            "Time: 11.601328\n",
            "RMSE Tuned: 0.618683\n",
            "Time: 1.781799\n",
            "RMSE Default: 0.623637\n"
          ]
        }
      ]
    },
    {
      "cell_type": "code",
      "source": [
        "plt.bar(range(len(final_ada.feature_importances_)), final_ada.feature_importances_)\n",
        "plt.show()"
      ],
      "metadata": {
        "colab": {
          "base_uri": "https://localhost:8080/",
          "height": 265
        },
        "id": "edPzWf5fKGGb",
        "outputId": "a50a69b9-64a5-4530-c70e-0fcc747a6c7e"
      },
      "id": "edPzWf5fKGGb",
      "execution_count": null,
      "outputs": [
        {
          "output_type": "display_data",
          "data": {
            "text/plain": [
              "<Figure size 432x288 with 1 Axes>"
            ],
            "image/png": "[encoded data removed]"
          },
          "metadata": {
            "needs_background": "light"
          }
        }
      ]
    },
    {
      "cell_type": "markdown",
      "source": [
        "#Gradient Boosting"
      ],
      "metadata": {
        "id": "_5GuiMiLNr_B"
      },
      "id": "_5GuiMiLNr_B"
    },
    {
      "cell_type": "code",
      "source": [
        "#importing libraries\n",
        "from sklearn.ensemble import GradientBoostingRegressor\n",
        "\n",
        "\n",
        "#parameter tuned model\n",
        "gb_reg = GradientBoostingRegressor(n_estimators = 250, min_samples_split = 2, min_samples_leaf= 1, max_features = 'sqrt', max_depth= 60, learning_rate = 0.01,random_state=123)\n",
        "start = time.time()\n",
        "gb_reg.fit(X_train,y_train['quality'])\n",
        "end = time.time()\n",
        "preds_gb = gb_reg.predict(X_test)\n",
        "rmse = np.sqrt(mean_squared_error(y_test, preds_gb))\n",
        "print(\"Time: %f\" % (end-start))\n",
        "print(\"RMSE Tuned: %f\" % (rmse))\n",
        "\n",
        "#default model\n",
        "gb_reg_default = GradientBoostingRegressor(random_state = 123)\n",
        "start = time.time()\n",
        "gb_reg_default.fit(X_train, y_train['quality'])\n",
        "end = time.time()\n",
        "preds_gb = gb_reg_default.predict(X_test)\n",
        "rmse = np.sqrt(mean_squared_error(y_test, preds_gb))\n",
        "print(\"Time: %f\" % (end-start))\n",
        "print(\"RMSE Default: %f\" % (rmse))"
      ],
      "metadata": {
        "colab": {
          "base_uri": "https://localhost:8080/"
        },
        "id": "Lv_pv-0hNxWQ",
        "outputId": "fefad527-3cc9-4ccd-cfcf-b0f7995a4fd7"
      },
      "id": "Lv_pv-0hNxWQ",
      "execution_count": null,
      "outputs": [
        {
          "output_type": "stream",
          "name": "stdout",
          "text": [
            "Time: 3.220084\n",
            "RMSE Tuned: 0.567148\n",
            "Time: 0.888193\n",
            "RMSE Default: 0.652869\n"
          ]
        }
      ]
    },
    {
      "cell_type": "code",
      "source": [
        "plt.bar(range(len(gb_reg.feature_importances_)), gb_reg.feature_importances_)\n",
        "plt.show()"
      ],
      "metadata": {
        "colab": {
          "base_uri": "https://localhost:8080/",
          "height": 265
        },
        "id": "1SCxNGwnUBhR",
        "outputId": "bfe9a9e9-5bf8-4066-c237-232be8ee4c30"
      },
      "id": "1SCxNGwnUBhR",
      "execution_count": null,
      "outputs": [
        {
          "output_type": "display_data",
          "data": {
            "text/plain": [
              "<Figure size 432x288 with 1 Axes>"
            ],
            "image/png": "[encoded data removed]"
          },
          "metadata": {
            "needs_background": "light"
          }
        }
      ]
    },
    {
      "cell_type": "markdown",
      "source": [
        "#Random Forest"
      ],
      "metadata": {
        "id": "tOeicmnfLFLf"
      },
      "id": "tOeicmnfLFLf"
    },
    {
      "cell_type": "code",
      "source": [
        "#importing libraries\n",
        "from sklearn.ensemble import RandomForestRegressor\n",
        "\n",
        "\n",
        "#parameter tuned model\n",
        "rf_reg = RandomForestRegressor(n_estimators = 200, min_samples_split = 2, min_samples_leaf= 1, max_features = 'sqrt', max_depth= 60, bootstrap=True, random_state=123)\n",
        "start = time.time()\n",
        "rf_reg.fit(X_train,y_train['quality'])\n",
        "end = time.time()\n",
        "preds_rf = rf_reg.predict(X_test)\n",
        "rmse = np.sqrt(mean_squared_error(y_test, preds_rf))\n",
        "print(\"Time: %f\" % (end-start))\n",
        "print(\"RMSE Tuned: %f\" % (rmse))\n",
        "\n",
        "#default model\n",
        "rf_reg_default = RandomForestRegressor(random_state = 123)\n",
        "start = time.time()\n",
        "rf_reg_default.fit(X_train, y_train['quality'])\n",
        "end = time.time()\n",
        "preds_rf = rf_reg_default.predict(X_test)\n",
        "rmse = np.sqrt(mean_squared_error(y_test, preds_rf))\n",
        "print(\"Time: %f\" % (end-start))\n",
        "print(\"RMSE Default: %f\" % (rmse))"
      ],
      "metadata": {
        "colab": {
          "base_uri": "https://localhost:8080/"
        },
        "id": "qD2BRwekLINK",
        "outputId": "3f9bc478-839d-4c20-f5c6-17beb1249948"
      },
      "id": "qD2BRwekLINK",
      "execution_count": null,
      "outputs": [
        {
          "output_type": "stream",
          "name": "stdout",
          "text": [
            "Time: 1.722701\n",
            "RMSE Tuned: 0.571268\n",
            "Time: 2.638277\n",
            "RMSE Default: 0.577832\n"
          ]
        }
      ]
    },
    {
      "cell_type": "code",
      "source": [
        "plt.bar(range(len(rf_reg.feature_importances_)), rf_reg.feature_importances_)\n",
        "plt.show()"
      ],
      "metadata": {
        "colab": {
          "base_uri": "https://localhost:8080/",
          "height": 265
        },
        "id": "Xybw3NeSLv95",
        "outputId": "4c75abb5-272b-42ad-c72e-cd316810c86c"
      },
      "id": "Xybw3NeSLv95",
      "execution_count": null,
      "outputs": [
        {
          "output_type": "display_data",
          "data": {
            "text/plain": [
              "<Figure size 432x288 with 1 Axes>"
            ],
            "image/png": "[encoded data removed]"
          },
          "metadata": {
            "needs_background": "light"
          }
        }
      ]
    },
    {
      "cell_type": "markdown",
      "source": [
        "# XGBoost"
      ],
      "metadata": {
        "id": "6vekEa-QTr_L"
      },
      "id": "6vekEa-QTr_L"
    },
    {
      "cell_type": "markdown",
      "source": [
        "Note that since the presentation we have been able to further improve upon the results of XGBoost, but our conclusions remain the same as it is still outperformed by Extremely Random Trees in terms of time and accuracy. Also, note that similar to Gradient Boosting, hyperparameter tuning is essential for XGBoost. We found that max_depth was the most impactful parameter in our case, but each of the ones we showed in the above example played a relevant role in lowering the RMSE."
      ],
      "metadata": {
        "id": "QfBOR-Aq1ke-"
      },
      "id": "QfBOR-Aq1ke-"
    },
    {
      "cell_type": "code",
      "source": [
        "#importing libraries\n",
        "import xgboost as xgb\n",
        "\n",
        "#parameter tuned model\n",
        "xg_reg = xgb.XGBRegressor(objective ='reg:squarederror', learning_rate = 0.05, min_child_weight=3,max_depth = 9, subsample = 0.8, colsample_bytree = 0.7, n_estimators = 341,seed=123)\n",
        "start = time.time()\n",
        "xg_reg.fit(X_train,y_train['quality'])\n",
        "end = time.time()\n",
        "preds_xgb = xg_reg.predict(X_test)\n",
        "rmse = np.sqrt(mean_squared_error(y_test, preds_xgb))\n",
        "print(\"Time: %f\" % (end-start))\n",
        "print(\"RMSE Tuned: %f\" % (rmse))\n",
        "\n",
        "#default model\n",
        "xg_reg_default = xgb.XGBRegressor(objective ='reg:squarederror', seed=123)\n",
        "start = time.time()\n",
        "xg_reg_default.fit(X_train, y_train['quality'])\n",
        "end = time.time()\n",
        "preds_xgb = xg_reg_default.predict(X_test)\n",
        "rmse = np.sqrt(mean_squared_error(y_test, preds_xgb))\n",
        "print(\"Time: %f\" % (end-start))\n",
        "print(\"RMSE Default: %f\" % (rmse))\n"
      ],
      "metadata": {
        "id": "n0U26HNP7gSZ",
        "colab": {
          "base_uri": "https://localhost:8080/"
        },
        "outputId": "d333934b-dc44-4561-c48f-91daf718b3d3"
      },
      "id": "n0U26HNP7gSZ",
      "execution_count": null,
      "outputs": [
        {
          "output_type": "stream",
          "name": "stdout",
          "text": [
            "Time: 2.393780\n",
            "RMSE Tuned: 0.567994\n",
            "Time: 0.418196\n",
            "RMSE Default: 0.653605\n"
          ]
        }
      ]
    },
    {
      "cell_type": "code",
      "source": [
        "plt.bar(range(len(xg_reg.feature_importances_)), xg_reg.feature_importances_)\n",
        "plt.show()"
      ],
      "metadata": {
        "colab": {
          "base_uri": "https://localhost:8080/",
          "height": 265
        },
        "id": "59rsoJOI3xW8",
        "outputId": "99dd4afd-6550-414e-a6e7-12423f86a8e9"
      },
      "id": "59rsoJOI3xW8",
      "execution_count": null,
      "outputs": [
        {
          "output_type": "display_data",
          "data": {
            "text/plain": [
              "<Figure size 432x288 with 1 Axes>"
            ],
            "image/png": "[encoded data removed]"
          },
          "metadata": {
            "needs_background": "light"
          }
        }
      ]
    },
    {
      "cell_type": "markdown",
      "source": [
        "# Extremely Randomized Trees"
      ],
      "metadata": {
        "id": "pMEHah5YTiVG"
      },
      "id": "pMEHah5YTiVG"
    },
    {
      "cell_type": "code",
      "source": [
        "#importing libraries\n",
        "from sklearn.ensemble import ExtraTreesRegressor\n",
        "\n",
        "#parameter tuned model\n",
        "extrees_reg = ExtraTreesRegressor(n_estimators = 210, criterion = 'squared_error', random_state = 123)\n",
        "start = time.time()\n",
        "extrees_reg.fit(X_train,y_train['quality'])\n",
        "end = time.time()\n",
        "preds_extrees = extrees_reg.predict(X_test)\n",
        "rmse = np.sqrt(mean_squared_error(y_test, preds_extrees))\n",
        "print(\"Time: %f\" % (end-start))\n",
        "print(\"RMSE Tuned: %f\" % (rmse))\n",
        "print(\"R2 Tuned: %f\" % (r2_score(y_test,preds_extrees)))\n",
        "\n",
        "#default model\n",
        "extrees_reg_default = ExtraTreesRegressor(criterion = 'squared_error', random_state = 123)\n",
        "start = time.time()\n",
        "extrees_reg_default.fit(X_train, y_train['quality'])\n",
        "end = time.time()\n",
        "preds_extrees = extrees_reg_default.predict(X_test)\n",
        "rmse = np.sqrt(mean_squared_error(y_test, preds_extrees))\n",
        "print(\"Time: %f\" % (end-start))\n",
        "print(\"RMSE Default: %f\" % (rmse))"
      ],
      "metadata": {
        "id": "rJiMH-51Tu47",
        "colab": {
          "base_uri": "https://localhost:8080/"
        },
        "outputId": "89c8e30d-3b5c-40e5-e4cb-6532c94ed662"
      },
      "id": "rJiMH-51Tu47",
      "execution_count": null,
      "outputs": [
        {
          "output_type": "stream",
          "name": "stdout",
          "text": [
            "Time: 2.853089\n",
            "RMSE Tuned: 0.564513\n",
            "R2 Tuned: 0.550473\n",
            "Time: 1.374307\n",
            "RMSE Default: 0.564661\n"
          ]
        }
      ]
    },
    {
      "cell_type": "code",
      "source": [
        "plt.bar(range(len(extrees_reg.feature_importances_)), extrees_reg.feature_importances_)\n",
        "plt.show()"
      ],
      "metadata": {
        "colab": {
          "base_uri": "https://localhost:8080/",
          "height": 268
        },
        "id": "jxj2iN2bK2dZ",
        "outputId": "6d2670d5-b90d-4cc3-c939-607c72caff98"
      },
      "id": "jxj2iN2bK2dZ",
      "execution_count": null,
      "outputs": [
        {
          "output_type": "display_data",
          "data": {
            "text/plain": [
              "<Figure size 432x288 with 1 Axes>"
            ],
            "image/png": "[encoded data removed]"
          },
          "metadata": {
            "needs_background": "light"
          }
        }
      ]
    },
    {
      "cell_type": "markdown",
      "source": [
        "# Conclusions"
      ],
      "metadata": {
        "id": "2uKNrQc52BPp"
      },
      "id": "2uKNrQc52BPp"
    },
    {
      "cell_type": "markdown",
      "source": [
        "### Model Comparison"
      ],
      "metadata": {
        "id": "D_6VmUXt4nv-"
      },
      "id": "D_6VmUXt4nv-"
    },
    {
      "cell_type": "markdown",
      "source": [
        "We can see that the best performing model in terms of both lowers RMSE and time is Extremely Random Trees. However, it should be noted that all of the models (aside from AdaBoost) performed very similarly. It's possible that ERT simply edged out the rest due to the standard variance you would expect to see when dealing with models like these. However, it is indisputable that ERT was able to achieve its performance at a much faster speed than its competing models, and even if they all had the exact same level of performance, that alone puts ERT in the lead. We believe that ERT is able to outperform the rest of the algorithms because of the nature of our dataset. There is multicollinearity which can negatively affect boosting techniques, and in general the dataset seems to be quite noisy with many of the features having very little if any onset correlation with the target."
      ],
      "metadata": {
        "id": "J3cK2rIA2Cik"
      },
      "id": "J3cK2rIA2Cik"
    },
    {
      "cell_type": "markdown",
      "source": [
        "### Wine Quality Prediction"
      ],
      "metadata": {
        "id": "Vwwa4zFO4riv"
      },
      "id": "Vwwa4zFO4riv"
    },
    {
      "cell_type": "markdown",
      "source": [
        "Although having our RMSE be around 0.57 for most of the models seems like it would be relatively good, since the value of the target variable is generally centered around 5-7, it is not neccessarily a good model. In fact, when examining the R2 scores of our models, they generally lie around 0.55, which is not particularly good. (As a side note, the ill fit of our models may also contribute to the strong relative performance of ERT). However, despite our models not being amazing, we can see that one of the variables in particular has high feature importance in every single model, and that is the alcohol content of the wine. If nothing else, we have determined that of the physicochemical components of wine provided, the alcohol content is most important in predicting the quality of wine as determined by wine tasters."
      ],
      "metadata": {
        "id": "I5HN5kf_5Gtb"
      },
      "id": "I5HN5kf_5Gtb"
    }
  ],
  "metadata": {
    "kernelspec": {
      "display_name": "Python 3 (ipykernel)",
      "language": "python",
      "name": "python3"
    },
    "language_info": {
      "codemirror_mode": {
        "name": "ipython",
        "version": 3
      },
      "file_extension": ".py",
      "mimetype": "text/x-python",
      "name": "python",
      "nbconvert_exporter": "python",
      "pygments_lexer": "ipython3",
      "version": "3.9.7"
    },
    "colab": {
      "provenance": []
    }
  },
  "nbformat": 4,
  "nbformat_minor": 5
}